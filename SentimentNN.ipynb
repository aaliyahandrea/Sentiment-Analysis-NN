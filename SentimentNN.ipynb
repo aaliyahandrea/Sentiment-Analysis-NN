{
 "cells": [
  {
   "cell_type": "code",
   "execution_count": 1,
   "id": "a808dd34",
   "metadata": {},
   "outputs": [
    {
     "name": "stderr",
     "output_type": "stream",
     "text": [
      "C:\\Users\\awhit\\anaconda3\\lib\\site-packages\\scipy\\__init__.py:138: UserWarning: A NumPy version >=1.16.5 and <1.23.0 is required for this version of SciPy (detected version 1.23.1)\n",
      "  warnings.warn(f\"A NumPy version >={np_minversion} and <{np_maxversion} is required for this version of \"\n"
     ]
    }
   ],
   "source": [
    "#Import required libraries\n",
    "import sys\n",
    "import os\n",
    "\n",
    "import sklearn\n",
    "from sklearn import preprocessing\n",
    "from sklearn import model_selection\n",
    "from sklearn.model_selection import train_test_split\n",
    "import pandas as pd\n",
    "import numpy as np\n",
    "from nltk.corpus import stopwords\n",
    "from nltk.tokenize import word_tokenize\n",
    "import tensorflow as tf\n",
    "from tensorflow.keras.preprocessing.text import Tokenizer\n",
    "from tensorflow.keras.preprocessing.sequence import pad_sequences\n",
    "import matplotlib.pyplot as plt"
   ]
  },
  {
   "cell_type": "code",
   "execution_count": 2,
   "id": "fced6799",
   "metadata": {},
   "outputs": [],
   "source": [
    "#Import Sentiment Dataset\n",
    "amazon = pd.read_csv('amazon_cells_labelled.txt', delimiter ='\\t', header = None)\n",
    "imdb = pd.read_csv('imdb_labelled.txt', delimiter ='\\t', header = None)\n",
    "yelp = pd.read_csv('yelp_labelled.txt', delimiter ='\\t', header = None)\n",
    "\n",
    "#Create columns for merge\n",
    "amazon.columns =['Review','Sentiment']\n",
    "imdb.columns =['Review','Sentiment']\n",
    "yelp.columns =['Review','Sentiment']\n",
    "\n",
    "#Merge\n",
    "Reviews = pd.concat([amazon,imdb,yelp], ignore_index = True)"
   ]
  },
  {
   "cell_type": "code",
   "execution_count": 3,
   "id": "89676a11",
   "metadata": {},
   "outputs": [],
   "source": [
    "Reviews.to_csv('Reviews.csv')"
   ]
  },
  {
   "cell_type": "code",
   "execution_count": 4,
   "id": "ef6833c5",
   "metadata": {},
   "outputs": [
    {
     "data": {
      "text/html": [
       "<div>\n",
       "<style scoped>\n",
       "    .dataframe tbody tr th:only-of-type {\n",
       "        vertical-align: middle;\n",
       "    }\n",
       "\n",
       "    .dataframe tbody tr th {\n",
       "        vertical-align: top;\n",
       "    }\n",
       "\n",
       "    .dataframe thead th {\n",
       "        text-align: right;\n",
       "    }\n",
       "</style>\n",
       "<table border=\"1\" class=\"dataframe\">\n",
       "  <thead>\n",
       "    <tr style=\"text-align: right;\">\n",
       "      <th></th>\n",
       "      <th>Sentiment</th>\n",
       "    </tr>\n",
       "  </thead>\n",
       "  <tbody>\n",
       "    <tr>\n",
       "      <th>count</th>\n",
       "      <td>2748.000000</td>\n",
       "    </tr>\n",
       "    <tr>\n",
       "      <th>mean</th>\n",
       "      <td>0.504367</td>\n",
       "    </tr>\n",
       "    <tr>\n",
       "      <th>std</th>\n",
       "      <td>0.500072</td>\n",
       "    </tr>\n",
       "    <tr>\n",
       "      <th>min</th>\n",
       "      <td>0.000000</td>\n",
       "    </tr>\n",
       "    <tr>\n",
       "      <th>25%</th>\n",
       "      <td>0.000000</td>\n",
       "    </tr>\n",
       "    <tr>\n",
       "      <th>50%</th>\n",
       "      <td>1.000000</td>\n",
       "    </tr>\n",
       "    <tr>\n",
       "      <th>75%</th>\n",
       "      <td>1.000000</td>\n",
       "    </tr>\n",
       "    <tr>\n",
       "      <th>max</th>\n",
       "      <td>1.000000</td>\n",
       "    </tr>\n",
       "  </tbody>\n",
       "</table>\n",
       "</div>"
      ],
      "text/plain": [
       "         Sentiment\n",
       "count  2748.000000\n",
       "mean      0.504367\n",
       "std       0.500072\n",
       "min       0.000000\n",
       "25%       0.000000\n",
       "50%       1.000000\n",
       "75%       1.000000\n",
       "max       1.000000"
      ]
     },
     "execution_count": 4,
     "metadata": {},
     "output_type": "execute_result"
    }
   ],
   "source": [
    "Reviews.describe()"
   ]
  },
  {
   "cell_type": "code",
   "execution_count": 5,
   "id": "e47f71d4",
   "metadata": {},
   "outputs": [
    {
     "name": "stdout",
     "output_type": "stream",
     "text": [
      "['S', 'o', ' ', 't', 'h', 'e', 'r', 'i', 's', 'n', 'w', 'a', 'y', 'f', 'm', 'p', 'l', 'u', 'g', 'U', 'I', 'b', 'c', 'v', '.', 'G', 'd', ',', 'E', 'x', 'j', 'T', '4', '5', 'M', 'A', 'J', 'O', 'R', 'P', 'B', 'L', '!', 'z', 'N', 'W', 'q', 'H', '+', 'V', '\"', 'Y', 'D', 'F', 'k', \"'\", 'K', 'C', '/', '7', '3', '6', '8', '0', '2', '?', 'Z', '-', '1', ':', ')', '(', 'Q', '&', '$', '*', ';', 'X', '%', '9', '#', '[', ']', '\\x96', '\\t', '\\n', 'é', '\\x85', 'å', '\\x97', 'ê']\n"
     ]
    }
   ],
   "source": [
    "#Character count - List of characters\n",
    "CustomerReviews = Reviews['Review']\n",
    "characters = []\n",
    "for comment in CustomerReviews:\n",
    "    for character in comment:\n",
    "        if character not in characters:\n",
    "            characters.append(character)\n",
    "print(characters)"
   ]
  },
  {
   "cell_type": "code",
   "execution_count": 6,
   "id": "891870ad",
   "metadata": {},
   "outputs": [],
   "source": [
    "#Remove unusual characters/stop words\n",
    "stop = stopwords.words('english')\n",
    "\n",
    "Reviews['Review'] = Reviews['Review'].apply(lambda x: ' '.join([w for w in word_tokenize(x.lower()) if w.isalpha()]))\n",
    "Reviews['Review'] = Reviews['Review'].apply(lambda x: ' '.join([word for word in x.split() if word not in (stop)]))"
   ]
  },
  {
   "cell_type": "code",
   "execution_count": 7,
   "id": "252b726f",
   "metadata": {},
   "outputs": [
    {
     "data": {
      "text/plain": [
       "Int64Index([641, 1064, 1590, 1659, 1888], dtype='int64')"
      ]
     },
     "execution_count": 7,
     "metadata": {},
     "output_type": "execute_result"
    }
   ],
   "source": [
    "#Check for blank rows \n",
    "Reviews[Reviews['Review'] == ''].index"
   ]
  },
  {
   "cell_type": "code",
   "execution_count": 8,
   "id": "0dfa07fc",
   "metadata": {},
   "outputs": [
    {
     "data": {
      "text/plain": [
       "Review       0\n",
       "Sentiment    0\n",
       "dtype: int64"
      ]
     },
     "execution_count": 8,
     "metadata": {},
     "output_type": "execute_result"
    }
   ],
   "source": [
    "#Check for missing data and remove blank rows if any\n",
    "Reviews.isnull().sum()\n"
   ]
  },
  {
   "cell_type": "code",
   "execution_count": 9,
   "id": "cb7b05bb",
   "metadata": {},
   "outputs": [],
   "source": [
    "Reviews = Reviews.drop([641,1064,1590,1659,1888], axis = 'index')"
   ]
  },
  {
   "cell_type": "code",
   "execution_count": 10,
   "id": "6ba9e177",
   "metadata": {},
   "outputs": [
    {
     "data": {
      "text/html": [
       "<div>\n",
       "<style scoped>\n",
       "    .dataframe tbody tr th:only-of-type {\n",
       "        vertical-align: middle;\n",
       "    }\n",
       "\n",
       "    .dataframe tbody tr th {\n",
       "        vertical-align: top;\n",
       "    }\n",
       "\n",
       "    .dataframe thead th {\n",
       "        text-align: right;\n",
       "    }\n",
       "</style>\n",
       "<table border=\"1\" class=\"dataframe\">\n",
       "  <thead>\n",
       "    <tr style=\"text-align: right;\">\n",
       "      <th></th>\n",
       "      <th>Review</th>\n",
       "      <th>Sentiment</th>\n",
       "    </tr>\n",
       "  </thead>\n",
       "  <tbody>\n",
       "    <tr>\n",
       "      <th>0</th>\n",
       "      <td>way plug us unless go converter</td>\n",
       "      <td>0</td>\n",
       "    </tr>\n",
       "    <tr>\n",
       "      <th>1</th>\n",
       "      <td>good case excellent value</td>\n",
       "      <td>1</td>\n",
       "    </tr>\n",
       "    <tr>\n",
       "      <th>2</th>\n",
       "      <td>great jawbone</td>\n",
       "      <td>1</td>\n",
       "    </tr>\n",
       "    <tr>\n",
       "      <th>3</th>\n",
       "      <td>tied charger conversations lasting problems</td>\n",
       "      <td>0</td>\n",
       "    </tr>\n",
       "    <tr>\n",
       "      <th>4</th>\n",
       "      <td>mic great</td>\n",
       "      <td>1</td>\n",
       "    </tr>\n",
       "    <tr>\n",
       "      <th>...</th>\n",
       "      <td>...</td>\n",
       "      <td>...</td>\n",
       "    </tr>\n",
       "    <tr>\n",
       "      <th>2743</th>\n",
       "      <td>think food flavor texture lacking</td>\n",
       "      <td>0</td>\n",
       "    </tr>\n",
       "    <tr>\n",
       "      <th>2744</th>\n",
       "      <td>appetite instantly gone</td>\n",
       "      <td>0</td>\n",
       "    </tr>\n",
       "    <tr>\n",
       "      <th>2745</th>\n",
       "      <td>overall impressed would go back</td>\n",
       "      <td>0</td>\n",
       "    </tr>\n",
       "    <tr>\n",
       "      <th>2746</th>\n",
       "      <td>whole experience underwhelming think go ninja ...</td>\n",
       "      <td>0</td>\n",
       "    </tr>\n",
       "    <tr>\n",
       "      <th>2747</th>\n",
       "      <td>wasted enough life poured salt wound drawing t...</td>\n",
       "      <td>0</td>\n",
       "    </tr>\n",
       "  </tbody>\n",
       "</table>\n",
       "<p>2743 rows × 2 columns</p>\n",
       "</div>"
      ],
      "text/plain": [
       "                                                 Review  Sentiment\n",
       "0                       way plug us unless go converter          0\n",
       "1                             good case excellent value          1\n",
       "2                                         great jawbone          1\n",
       "3           tied charger conversations lasting problems          0\n",
       "4                                             mic great          1\n",
       "...                                                 ...        ...\n",
       "2743                  think food flavor texture lacking          0\n",
       "2744                            appetite instantly gone          0\n",
       "2745                    overall impressed would go back          0\n",
       "2746  whole experience underwhelming think go ninja ...          0\n",
       "2747  wasted enough life poured salt wound drawing t...          0\n",
       "\n",
       "[2743 rows x 2 columns]"
      ]
     },
     "execution_count": 10,
     "metadata": {},
     "output_type": "execute_result"
    }
   ],
   "source": [
    "Reviews"
   ]
  },
  {
   "cell_type": "code",
   "execution_count": 11,
   "id": "ef78a67b",
   "metadata": {},
   "outputs": [
    {
     "name": "stdout",
     "output_type": "stream",
     "text": [
      "vocab count:  4848\n",
      "{'good': 1, 'great': 2, 'movie': 3, 'phone': 4, 'film': 5, 'one': 6, 'food': 7, 'like': 8, 'place': 9, 'time': 10, 'service': 11, 'really': 12, 'bad': 13, 'would': 14, 'well': 15, 'best': 16, 'even': 17, 'ever': 18, 'also': 19, 'back': 20, 'could': 21, 'quality': 22, 'go': 23, 'love': 24, 'made': 25, 'product': 26, 'get': 27, 'work': 28, 'excellent': 29, 'works': 30, 'nice': 31, 'better': 32, 'never': 33, 'recommend': 34, 'much': 35, 'use': 36, 'sound': 37, 'headset': 38, 'think': 39, 'way': 40, 'battery': 41, 'first': 42, 'pretty': 43, 'see': 44, 'make': 45, 'acting': 46, 'got': 47, 'still': 48, 'worst': 49, 'say': 50, 'enough': 51, 'two': 52, 'ear': 53, 'little': 54, 'disappointed': 55, 'everything': 56, 'every': 57, 'characters': 58, 'right': 59, 'thing': 60, 'price': 61, 'amazing': 62, 'waste': 63, 'going': 64, 'people': 65, 'definitely': 66, 'case': 67, 'minutes': 68, 'real': 69, 'terrible': 70, 'money': 71, 'look': 72, 'new': 73, 'know': 74, 'experience': 75, 'came': 76, 'movies': 77, 'friendly': 78, 'many': 79, 'story': 80, 'far': 81, 'poor': 82, 'piece': 83, 'used': 84, 'worth': 85, 'plot': 86, 'life': 87, 'nothing': 88, 'wo': 89, 'seen': 90, 'us': 91, 'long': 92, 'years': 93, 'want': 94, 'lot': 95, 'quite': 96, 'ca': 97, 'wonderful': 98, 'restaurant': 99, 'happy': 100, 'always': 101, 'films': 102, 'script': 103, 'highly': 104, 'found': 105, 'give': 106, 'anyone': 107, 'character': 108, 'delicious': 109, 'times': 110, 'another': 111, 'watching': 112, 'vegas': 113, 'went': 114, 'bought': 115, 'absolutely': 116, 'loved': 117, 'car': 118, 'fine': 119, 'worked': 120, 'easy': 121, 'around': 122, 'screen': 123, 'funny': 124, 'probably': 125, 'take': 126, 'awful': 127, 'comfortable': 128, 'camera': 129, 'buy': 130, 'since': 131, 'item': 132, 'awesome': 133, 'horrible': 134, 'however': 135, 'charger': 136, 'impressed': 137, 'makes': 138, 'cool': 139, 'find': 140, 'big': 141, 'music': 142, 'thought': 143, 'stars': 144, 'things': 145, 'totally': 146, 'scenes': 147, 'actors': 148, 'watch': 149, 'staff': 150, 'eat': 151, 'though': 152, 'last': 153, 'talk': 154, 'bluetooth': 155, 'end': 156, 'black': 157, 'job': 158, 'small': 159, 'fantastic': 160, 'slow': 161, 'night': 162, 'part': 163, 'family': 164, 'come': 165, 'show': 166, 'cast': 167, 'beautiful': 168, 'kind': 169, 'cheap': 170, 'overall': 171, 'ordered': 172, 'old': 173, 'stupid': 174, 'said': 175, 'day': 176, 'perfect': 177, 'chicken': 178, 'line': 179, 'must': 180, 'problem': 181, 'sure': 182, 'performance': 183, 'actually': 184, 'avoid': 185, 'especially': 186, 'feel': 187, 'next': 188, 'fresh': 189, 'problems': 190, 'everyone': 191, 'least': 192, 'order': 193, 'tried': 194, 'reception': 195, 'done': 196, 'simply': 197, 'felt': 198, 'bit': 199, 'anything': 200, 'sucks': 201, 'try': 202, 'hard': 203, 'scene': 204, 'interesting': 205, 'special': 206, 'salad': 207, 'pizza': 208, 'without': 209, 'hear': 210, 'charge': 211, 'calls': 212, 'looks': 213, 'gets': 214, 'expect': 215, 'fit': 216, 'fast': 217, 'cell': 218, 'completely': 219, 'almost': 220, 'customer': 221, 'either': 222, 'low': 223, 'away': 224, 'liked': 225, 'coming': 226, 'man': 227, 'enjoyed': 228, 'writing': 229, 'worse': 230, 'taste': 231, 'menu': 232, 'wait': 233, 'steak': 234, 'motorola': 235, 'left': 236, 'short': 237, 'clear': 238, 'purchase': 239, 'seriously': 240, 'different': 241, 'device': 242, 'working': 243, 'using': 244, 'white': 245, 'call': 246, 'year': 247, 'whole': 248, 'rather': 249, 'bland': 250, 'hour': 251, 'dialogue': 252, 'server': 253, 'sushi': 254, 'flavor': 255, 'plug': 256, 'volume': 257, 'several': 258, 'started': 259, 'design': 260, 'super': 261, 'play': 262, 'full': 263, 'may': 264, 'getting': 265, 'perfectly': 266, 'side': 267, 'put': 268, 'incredible': 269, 'extremely': 270, 'tell': 271, 'return': 272, 'disappointing': 273, 'looking': 274, 'crap': 275, 'deal': 276, 'understand': 277, 'unfortunately': 278, 'took': 279, 'enjoy': 280, 'believe': 281, 'fact': 282, 'art': 283, 'saw': 284, 'buffet': 285, 'feeling': 286, 'director': 287, 'watched': 288, 'burger': 289, 'yet': 290, 'three': 291, 'need': 292, 'received': 293, 'huge': 294, 'light': 295, 'fits': 296, 'hours': 297, 'less': 298, 'stay': 299, 'certainly': 300, 'mess': 301, 'disappointment': 302, 'care': 303, 'hot': 304, 'sucked': 305, 'barely': 306, 'truly': 307, 'mediocre': 308, 'soon': 309, 'ending': 310, 'boring': 311, 'atmosphere': 312, 'tasty': 313, 'meal': 314, 'fun': 315, 'wasted': 316, 'original': 317, 'days': 318, 'months': 319, 'recommended': 320, 'kept': 321, 'picture': 322, 'let': 323, 'home': 324, 'high': 325, 'strong': 326, 'pleased': 327, 'company': 328, 'gave': 329, 'wrong': 330, 'none': 331, 'something': 332, 'tv': 333, 'together': 334, 'effects': 335, 'easily': 336, 'inside': 337, 'top': 338, 'kids': 339, 'predictable': 340, 'actor': 341, 'played': 342, 'cold': 343, 'selection': 344, 'prices': 345, 'sauce': 346, 'waited': 347, 'decent': 348, 'helpful': 349, 'turn': 350, 'verizon': 351, 'dropped': 352, 'phones': 353, 'seems': 354, 'wear': 355, 'series': 356, 'broke': 357, 'voice': 358, 'glad': 359, 'lost': 360, 'hands': 361, 'junk': 362, 'amazon': 363, 'ago': 364, 'couple': 365, 'face': 366, 'trying': 367, 'wanted': 368, 'today': 369, 'keep': 370, 'oh': 371, 'guess': 372, 'bar': 373, 'else': 374, 'places': 375, 'half': 376, 'directing': 377, 'game': 378, 'drama': 379, 'waitress': 380, 'second': 381, 'style': 382, 'spot': 383, 'fries': 384, 'table': 385, 'sandwich': 386, 'lunch': 387, 'meat': 388, 'breakfast': 389, 'dishes': 390, 'clean': 391, 'value': 392, 'simple': 393, 'hate': 394, 'garbage': 395, 'audio': 396, 'buttons': 397, 'perhaps': 398, 'arrived': 399, 'quickly': 400, 'pictures': 401, 'although': 402, 'wife': 403, 'ask': 404, 'jabra': 405, 'set': 406, 'house': 407, 'area': 408, 'obviously': 409, 'check': 410, 'mostly': 411, 'expected': 412, 'important': 413, 'someone': 414, 'weak': 415, 'average': 416, 'finally': 417, 'waiting': 418, 'comes': 419, 'unit': 420, 'given': 421, 'star': 422, 'quick': 423, 'plus': 424, 'point': 425, 'pay': 426, 'told': 427, 'entire': 428, 'fails': 429, 'cinematography': 430, 'cinema': 431, 'amount': 432, 'twice': 433, 'playing': 434, 'world': 435, 'human': 436, 'eating': 437, 'beer': 438, 'dish': 439, 'dining': 440, 'spicy': 441, 'rude': 442, 'tasted': 443, 'book': 444, 'priced': 445, 'mind': 446, 'reasonable': 447, 'front': 448, 'week': 449, 'later': 450, 'feels': 451, 'headsets': 452, 'within': 453, 'free': 454, 'software': 455, 'brilliant': 456, 'literally': 457, 'superb': 458, 'internet': 459, 'charm': 460, 'useless': 461, 'color': 462, 'room': 463, 'authentic': 464, 'cable': 465, 'nokia': 466, 'outside': 467, 'others': 468, 'mention': 469, 'might': 470, 'solid': 471, 'review': 472, 'store': 473, 'friends': 474, 'course': 475, 'needed': 476, 'wall': 477, 'whatever': 478, 'word': 479, 'joy': 480, 'girl': 481, 'lines': 482, 'hilarious': 483, 'single': 484, 'editing': 485, 'written': 486, 'suspense': 487, 'classic': 488, 'bring': 489, 'maybe': 490, 'horror': 491, 'possible': 492, 'beyond': 493, 'john': 494, 'action': 495, 'hope': 496, 'location': 497, 'sick': 498, 'subtle': 499, 'seeing': 500, 'drive': 501, 'comedy': 502, 'heart': 503, 'tender': 504, 'served': 505, 'overpriced': 506, 'waiter': 507, 'attentive': 508, 'cooked': 509, 'town': 510, 'ambiance': 511, 'chips': 512, 'unless': 513, 'bars': 514, 'hold': 515, 'ears': 516, 'features': 517, 'loud': 518, 'instead': 519, 'large': 520, 'headphones': 521, 'particular': 522, 'player': 523, 'songs': 524, 'sometimes': 525, 'longer': 526, 'costs': 527, 'dont': 528, 'signal': 529, 'basically': 530, 'seemed': 531, 'whether': 532, 'hit': 533, 'thin': 534, 'bother': 535, 'range': 536, 'mistake': 537, 'whatsoever': 538, 'feature': 539, 'poorly': 540, 'clever': 541, 'lacking': 542, 'reason': 543, 'exactly': 544, 'dead': 545, 'plastic': 546, 'note': 547, 'difficult': 548, 'seem': 549, 'zero': 550, 'joke': 551, 'walked': 552, 'idea': 553, 'samsung': 554, 'cases': 555, 'extra': 556, 'reviews': 557, 'happened': 558, 'despite': 559, 'etc': 560, 'elsewhere': 561, 'rare': 562, 'lots': 563, 'making': 564, 'setting': 565, 'rating': 566, 'rest': 567, 'wow': 568, 'ridiculous': 569, 'running': 570, 'lacks': 571, 'casting': 572, 'history': 573, 'flick': 574, 'lovely': 575, 'performances': 576, 'believable': 577, 'portrayal': 578, 'sat': 579, 'annoying': 580, 'gives': 581, 'business': 582, 'terrific': 583, 'rent': 584, 'fish': 585, 'hitchcock': 586, 'holes': 587, 'considering': 588, 'sweet': 589, 'become': 590, 'leave': 591, 'throughout': 592, 'looked': 593, 'damn': 594, 'pho': 595, 'warm': 596, 'potato': 597, 'management': 598, 'dinner': 599, 'razr': 600, 'blue': 601, 'charging': 602, 'owned': 603, 'provided': 604, 'sturdy': 605, 'party': 606, 'cover': 607, 'choice': 608, 'holds': 609, 'bargain': 610, 'shipping': 611, 'impressive': 612, 'fall': 613, 'leather': 614, 'weeks': 615, 'stuff': 616, 'minute': 617, 'forever': 618, 'graphics': 619, 'offers': 620, 'options': 621, 'recently': 622, 'incredibly': 623, 'reasonably': 624, 'form': 625, 'living': 626, 'embarrassing': 627, 'favorite': 628, 'adorable': 629, 'buying': 630, 'cant': 631, 'games': 632, 'belt': 633, 'data': 634, 'along': 635, 'sides': 636, 'satisfied': 637, 'goes': 638, 'clarity': 639, 'wish': 640, 'turned': 641, 'reading': 642, 'computer': 643, 'ability': 644, 'roles': 645, 'ended': 646, 'total': 647, 'please': 648, 'due': 649, 'trash': 650, 'connection': 651, 'rate': 652, 'beat': 653, 'shots': 654, 'generally': 655, 'break': 656, 'thumbs': 657, 'utterly': 658, 'ok': 659, 'audience': 660, 'empty': 661, 'budget': 662, 'consider': 663, 'level': 664, 'deserves': 665, 'lame': 666, 'tom': 667, 'often': 668, 'trip': 669, 'direction': 670, 'imagination': 671, 'cult': 672, 'mean': 673, 'lead': 674, 'silent': 675, 'close': 676, 'usual': 677, 'pathetic': 678, 'lacked': 679, 'plain': 680, 'soundtrack': 681, 'fans': 682, 'eyes': 683, 'child': 684, 'water': 685, 'shot': 686, 'memorable': 687, 'dry': 688, 'fan': 689, 'involved': 690, 'particularly': 691, 'recent': 692, 'unbelievable': 693, 'rice': 694, 'sad': 695, 'asked': 696, 'tables': 697, 'portions': 698, 'shrimp': 699, 'dessert': 700, 'beef': 701, 'servers': 702, 'seafood': 703, 'pasta': 704, 'tasteless': 705, 'thai': 706, 'eaten': 707, 'seated': 708, 'bacon': 709, 'ice': 710, 'bread': 711, 'friend': 712, 'fried': 713, 'anytime': 714, 'mic': 715, 'sending': 716, 'owner': 717, 'clip': 718, 'advise': 719, 'website': 720, 'pair': 721, 'run': 722, 'instructions': 723, 'pull': 724, 'moving': 725, 'included': 726, 'worthless': 727, 'thats': 728, 'keyboard': 729, 'turns': 730, 'forget': 731, 'support': 732, 'clearly': 733, 'fairly': 734, 'trouble': 735, 'person': 736, 'station': 737, 'purchased': 738, 'loves': 739, 'decision': 740, 'rated': 741, 'rocks': 742, 'number': 743, 'comfortably': 744, 'failed': 745, 'takes': 746, 'previous': 747, 'tool': 748, 'share': 749, 'wasting': 750, 'network': 751, 'likes': 752, 'lasts': 753, 'nearly': 754, 'anyway': 755, 'able': 756, 'issues': 757, 'lightweight': 758, 'hair': 759, 'market': 760, 'cute': 761, 'type': 762, 'earpiece': 763, 'unreliable': 764, 'seller': 765, 'plantronics': 766, 'charged': 767, 'strip': 768, 'lg': 769, 'gotten': 770, 'immediately': 771, 'easier': 772, 'appealing': 773, 'called': 774, 'happier': 775, 'starts': 776, 'effective': 777, 'weird': 778, 'appearance': 779, 'expensive': 780, 'results': 781, 'im': 782, 'earlier': 783, 'palm': 784, 'replace': 785, 'touch': 786, 'missed': 787, 'hated': 788, 'ringtones': 789, 'plays': 790, 'killer': 791, 'treo': 792, 'genuine': 793, 'red': 794, 'third': 795, 'ready': 796, 'chinese': 797, 'crisp': 798, 'power': 799, 'hand': 800, 'passed': 801, 'shows': 802, 'cut': 803, 'somewhat': 804, 'cost': 805, 'son': 806, 'addition': 807, 'disgusting': 808, 'five': 809, 'wind': 810, 'yes': 811, 'checked': 812, 'says': 813, 'dirty': 814, 'exceptional': 815, 'wonderfully': 816, 'christmas': 817, 'young': 818, 'flat': 819, 'song': 820, 'showed': 821, 'main': 822, 'tale': 823, 'greatest': 824, 'gem': 825, 'true': 826, 'words': 827, 'massive': 828, 'complete': 829, 'convincing': 830, 'honestly': 831, 'follow': 832, 'energy': 833, 'pretentious': 834, 'occasionally': 835, 'including': 836, 'chemistry': 837, 'fear': 838, 'depth': 839, 'bunch': 840, 'paid': 841, 'crazy': 842, 'storyline': 843, 'gone': 844, 'already': 845, 'attempt': 846, 'torture': 847, 'pleasant': 848, 'premise': 849, 'ray': 850, 'charles': 851, 'remember': 852, 'thriller': 853, 'attention': 854, 'master': 855, 'visual': 856, 'mexican': 857, 'indeed': 858, 'thoroughly': 859, 'theater': 860, 'intelligence': 861, 'sense': 862, 'entertaining': 863, 'bored': 864, 'list': 865, 'guy': 866, 'towards': 867, 'drago': 868, 'enjoyable': 869, 'god': 870, 'parts': 871, 'sets': 872, 'stories': 873, 'production': 874, 'created': 875, 'role': 876, 'scamp': 877, 'charming': 878, 'period': 879, 'insult': 880, 'death': 881, 'rolls': 882, 'space': 883, 'conclusion': 884, 'ten': 885, 'final': 886, 'serious': 887, 'mickey': 888, 'james': 889, 'vibe': 890, 'dark': 891, 'honest': 892, 'nasty': 893, 'delight': 894, 'thinking': 895, 'heard': 896, 'mouth': 897, 'dance': 898, 'italian': 899, 'beginning': 900, 'appreciate': 901, 'tacos': 902, 'salmon': 903, 'visit': 904, 'establishment': 905, 'husband': 906, 'yummy': 907, 'wine': 908, 'steaks': 909, 'pork': 910, 'burgers': 911, 'cream': 912, 'drink': 913, 'bay': 914, 'phoenix': 915, 'wings': 916, 'live': 917, 'folks': 918, 'tea': 919, 'vegetables': 920, 'soup': 921, 'needs': 922, 'owners': 923, 'manager': 924, 'jawbone': 925, 'conversations': 926, 'lasting': 927, 'contacts': 928, 'imagine': 929, 'needless': 930, 'static': 931, 'odd': 932, 'wonder': 933, 'fire': 934, 'mother': 935, 'pocket': 936, 'pc': 937, 'combination': 938, 'speed': 939, 'gon': 940, 'na': 941, 'returned': 942, 'protection': 943, 'machine': 944, 'seconds': 945, 'complaints': 946, 'glasses': 947, 'quiet': 948, 'saying': 949, 'packaged': 950, 'construction': 951, 'boy': 952, 'loads': 953, 'ease': 954, 'plan': 955, 'beware': 956, 'supposedly': 957, 'match': 958, 'pros': 959, 'flaw': 960, 'expectations': 961, 'display': 962, 'setup': 963, 'earpieces': 964, 'bt': 965, 'earbud': 966, 'coverage': 967, 'tremendous': 968, 'experienced': 969, 'drops': 970, 'description': 971, 'hoping': 972, 'sounds': 973, 'sharp': 974, 'chargers': 975, 'bucks': 976, 'replacement': 977, 'strange': 978, 'means': 979, 'sony': 980, 'comfort': 981, 'aspect': 982, 'appears': 983, 'scary': 984, 'drain': 985, 'fry': 986, 'giving': 987, 'scratched': 988, 'microphone': 989, 'uncomfortable': 990, 'plugged': 991, 'driving': 992, 'neither': 993, 'flip': 994, 'inexpensive': 995, 'sitting': 996, 'los': 997, 'angeles': 998, 'wireless': 999, 'save': 1000, 'self': 1001, 'help': 1002, 'era': 1003, 'breaks': 1004, 'effect': 1005, 'warning': 1006, 'alone': 1007, 'q': 1008, 'size': 1009, 'sunglasses': 1010, 'returning': 1011, 'changing': 1012, 'worthwhile': 1013, 'pricing': 1014, 'regret': 1015, 'user': 1016, 'pitiful': 1017, 'noise': 1018, 'holster': 1019, 'amazed': 1020, 'orders': 1021, 'thanks': 1022, 'edge': 1023, 'refund': 1024, 'drop': 1025, 'ones': 1026, 'properly': 1027, 'flawed': 1028, 'forced': 1029, 'stop': 1030, 'speaker': 1031, 'constructed': 1032, 'holding': 1033, 'sprint': 1034, 'effort': 1035, 'stopped': 1036, 'usb': 1037, 'apart': 1038, 'surprised': 1039, 'fabulous': 1040, 'tinny': 1041, 'overly': 1042, 'placed': 1043, 'keeps': 1044, 'falling': 1045, 'tiny': 1046, 'four': 1047, 'spring': 1048, 'tries': 1049, 'interested': 1050, 'continue': 1051, 'pairing': 1052, 'balance': 1053, 'explain': 1054, 'biggest': 1055, 'stand': 1056, 'video': 1057, 'occupied': 1058, 'ripped': 1059, 'iphone': 1060, 'multiple': 1061, 'outlet': 1062, 'freedom': 1063, 'mark': 1064, 'plenty': 1065, 'convenient': 1066, 'date': 1067, 'cingular': 1068, 'wooden': 1069, 'boot': 1070, 'sorry': 1071, 'double': 1072, 'sounded': 1073, 'feet': 1074, 'father': 1075, 'send': 1076, 'describe': 1077, 'letting': 1078, 'material': 1079, 'flaws': 1080, 'beep': 1081, 'managed': 1082, 'seat': 1083, 'otherwise': 1084, 'control': 1085, 'complain': 1086, 'lousy': 1087, 'directed': 1088, 'painful': 1089, 'disappoint': 1090, 'speak': 1091, 'head': 1092, 'meaning': 1093, 'baby': 1094, 'delivers': 1095, 'sea': 1096, 'faux': 1097, 'significant': 1098, 'pure': 1099, 'brilliance': 1100, 'moment': 1101, 'talented': 1102, 'fare': 1103, 'hill': 1104, 'ed': 1105, 'ladies': 1106, 'grace': 1107, 'negative': 1108, 'cause': 1109, 'pointless': 1110, 'anne': 1111, 'children': 1112, 'parents': 1113, 'dialog': 1114, 'selections': 1115, 'gross': 1116, 'lion': 1117, 'acted': 1118, 'checking': 1119, 'touching': 1120, 'scenery': 1121, 'paper': 1122, 'episode': 1123, 'remake': 1124, 'nobody': 1125, 'putting': 1126, 'conflict': 1127, 'handled': 1128, 'hell': 1129, 'disaster': 1130, 'treat': 1131, 'yeah': 1132, 'cartoon': 1133, 'paul': 1134, 'women': 1135, 'brain': 1136, 'redeeming': 1137, 'appalling': 1138, 'presents': 1139, 'screenwriter': 1140, 'step': 1141, 'ups': 1142, 'age': 1143, 'industry': 1144, 'spent': 1145, 'daughter': 1146, 'singing': 1147, 'bore': 1148, 'dancing': 1149, 'dvd': 1150, 'struck': 1151, 'contained': 1152, 'theme': 1153, 'aerial': 1154, 'thrilled': 1155, 'deeply': 1156, 'interest': 1157, 'narrative': 1158, 'actress': 1159, 'spoilers': 1160, 'stunning': 1161, 'fx': 1162, 'surprisingly': 1163, 'released': 1164, 'ranks': 1165, 'journey': 1166, 'memories': 1167, 'summary': 1168, 'possibly': 1169, 'trilogy': 1170, 'favourite': 1171, 'judge': 1172, 'wrap': 1173, 'leaves': 1174, 'reviewer': 1175, 'intelligent': 1176, 'smart': 1177, 'bakery': 1178, 'stage': 1179, 'actresses': 1180, 'ways': 1181, 'modern': 1182, 'scared': 1183, 'supposed': 1184, 'learn': 1185, 'values': 1186, 'huston': 1187, 'steve': 1188, 'ruthless': 1189, 'war': 1190, 'example': 1191, 'angel': 1192, 'clichés': 1193, 'thrown': 1194, 'scale': 1195, 'glance': 1196, 'score': 1197, 'frightening': 1198, 'oscar': 1199, 'knew': 1200, 'stanwyck': 1201, 'fat': 1202, 'footage': 1203, 'opened': 1204, 'sort': 1205, 'behind': 1206, 'race': 1207, 'happen': 1208, 'unconvincing': 1209, 'produced': 1210, 'early': 1211, 'documentary': 1212, 'martin': 1213, 'racial': 1214, 'crowd': 1215, 'imaginative': 1216, 'credit': 1217, 'watchable': 1218, 'pace': 1219, 'lighting': 1220, 'past': 1221, 'excuse': 1222, 'nonsense': 1223, 'exquisite': 1224, 'known': 1225, 'south': 1226, 'lady': 1227, 'delightful': 1228, 'beautifully': 1229, 'wilkinson': 1230, 'laughable': 1231, 'begin': 1232, 'late': 1233, 'giallo': 1234, 'emotions': 1235, 'belly': 1236, 'spend': 1237, 'write': 1238, 'stinks': 1239, 'writer': 1240, 'suck': 1241, 'stayed': 1242, 'puppets': 1243, 'doubt': 1244, 'guys': 1245, 'miyazaki': 1246, 'realized': 1247, 'animation': 1248, 'added': 1249, 'texture': 1250, 'recommendation': 1251, 'potatoes': 1252, 'brought': 1253, 'sashimi': 1254, 'moist': 1255, 'frozen': 1256, 'greek': 1257, 'dressing': 1258, 'pita': 1259, 'hummus': 1260, 'duck': 1261, 'salt': 1262, 'chewy': 1263, 'drinks': 1264, 'tip': 1265, 'cafe': 1266, 'ambience': 1267, 'busy': 1268, 'delish': 1269, 'melt': 1270, 'cheese': 1271, 'subway': 1272, 'restaurants': 1273, 'ate': 1274, 'stale': 1275, 'treated': 1276, 'vegetarian': 1277, 'healthy': 1278, 'decor': 1279, 'butter': 1280, 'egg': 1281, 'dog': 1282, 'insulted': 1283, 'brunch': 1284, 'soggy': 1285, 'lobster': 1286, 'chef': 1287, 'flavorful': 1288, 'generous': 1289, 'patio': 1290, 'outstanding': 1291, 'pizzas': 1292, 'pulled': 1293, 'mom': 1294, 'equally': 1295, 'bathroom': 1296, 'door': 1297, 'stomach': 1298, 'green': 1299, 'beans': 1300, 'regular': 1301, 'bill': 1302, 'meals': 1303, 'homemade': 1304, 'desserts': 1305, 'boyfriend': 1306, 'edible': 1307, 'seating': 1308, 'salsa': 1309, 'dozen': 1310, 'extended': 1311, 'notice': 1312, 'tooth': 1313, 'mobile': 1314, 'unusable': 1315, 'contract': 1316, 'regarding': 1317, 'pda': 1318, 'neat': 1319, 'gadget': 1320, 'essentially': 1321, 'microsoft': 1322, 'tech': 1323, 'elegant': 1324, 'angle': 1325, 'skip': 1326, 'lock': 1327, 'died': 1328, 'docking': 1329, 'advertised': 1330, 'handy': 1331, 'cheaper': 1332, 'seamlessly': 1333, 'buyer': 1334, 'apparently': 1335, 'relatively': 1336, 'resolution': 1337, 'slim': 1338, 'sex': 1339, 'toast': 1340, 'sleek': 1341, 'compromise': 1342, 'basic': 1343, 'keypad': 1344, 'unhappy': 1345, 'winner': 1346, 'realize': 1347, 'careful': 1348, 'logitech': 1349, 'recognition': 1350, 'stated': 1351, 'blackberry': 1352, 'technology': 1353, 'wired': 1354, 'messages': 1355, 'faster': 1356, 'whine': 1357, 'maintain': 1358, 'humans': 1359, 'button': 1360, 'thank': 1361, 'igo': 1362, 'tips': 1363, 'connected': 1364, 'latest': 1365, 'storage': 1366, 'buzzing': 1367, 'override': 1368, 'functionality': 1369, 'ring': 1370, 'tone': 1371, 'dropping': 1372, 'weight': 1373, 'hardly': 1374, 'ends': 1375, 'consumer': 1376, 'background': 1377, 'usually': 1378, 'excited': 1379, 'additional': 1380, 'gels': 1381, 'secure': 1382, 'gosh': 1383, 'attractive': 1384, 'smell': 1385, 'unbearable': 1386, 'caused': 1387, 'flimsy': 1388, 'month': 1389, 'flawlessly': 1390, 'rotating': 1391, 'thru': 1392, 'cat': 1393, 'removing': 1394, 'compliments': 1395, 'allow': 1396, 'dialing': 1397, 'ipod': 1398, 'recharge': 1399, 'practically': 1400, 'add': 1401, 'boost': 1402, 'finished': 1403, 'ringing': 1404, 'hurt': 1405, 'push': 1406, 'skype': 1407, 'handsfree': 1408, 'shipped': 1409, 'promptly': 1410, 'prompt': 1411, 'noticed': 1412, 'colored': 1413, 'cheaply': 1414, 'att': 1415, 'distorted': 1416, 'forgot': 1417, 'model': 1418, 'finds': 1419, 'enter': 1420, 'modest': 1421, 'dying': 1422, 'built': 1423, 'install': 1424, 'purchasing': 1425, 'moto': 1426, 'figure': 1427, 'fully': 1428, 'memory': 1429, 'card': 1430, 'wearing': 1431, 'timely': 1432, 'update': 1433, 'cumbersome': 1434, 'delivery': 1435, 'switch': 1436, 'batteries': 1437, 'receiving': 1438, 'exchanged': 1439, 'described': 1440, 'nyc': 1441, 'defective': 1442, 'eye': 1443, 'catching': 1444, 'function': 1445, 'timeframe': 1446, 'complaint': 1447, 'standard': 1448, 'ugly': 1449, 'improvement': 1450, 'accidentally': 1451, 'listening': 1452, 'kitchen': 1453, 'conversation': 1454, 'practical': 1455, 'ample': 1456, 'eargels': 1457, 'channel': 1458, 'numerous': 1459, 'frustration': 1460, 'understanding': 1461, 'wire': 1462, 'menus': 1463, 'broken': 1464, 'development': 1465, 'knows': 1466, 'breaking': 1467, 'operate': 1468, 'paired': 1469, 'normally': 1470, 'brand': 1471, 'players': 1472, 'comments': 1473, 'performed': 1474, 'echo': 1475, 'warranty': 1476, 'produce': 1477, 'luck': 1478, 'exchange': 1479, 'utter': 1480, 'download': 1481, 'smoothly': 1482, 'study': 1483, 'access': 1484, 'somehow': 1485, 'flash': 1486, 'choices': 1487, 'tones': 1488, 'prime': 1489, 'jack': 1490, 'accept': 1491, 'except': 1492, 'allows': 1493, 'open': 1494, 'allowing': 1495, 'numbers': 1496, 'r': 1497, 'crashed': 1498, 'quit': 1499, 'via': 1500, 'span': 1501, 'signs': 1502, 'sizes': 1503, 'provides': 1504, 'mainly': 1505, 'metro': 1506, 'smoke': 1507, 'carries': 1508, 'highest': 1509, 'protector': 1510, 'wont': 1511, 'impossible': 1512, 'refused': 1513, 'discount': 1514, 'talking': 1515, 'telephone': 1516, 'everywhere': 1517, 'ordering': 1518, 'awkward': 1519, 'bottom': 1520, 'row': 1521, 'current': 1522, 'read': 1523, 'laptop': 1524, 'sister': 1525, 'discomfort': 1526, 'normal': 1527, 'confusing': 1528, 'lose': 1529, 'cutouts': 1530, 'cuts': 1531, 'wild': 1532, 'carry': 1533, 'loose': 1534, 'receive': 1535, 'lightly': 1536, 'certain': 1537, 'unsatisfactory': 1538, 'hype': 1539, 'covered': 1540, 'falls': 1541, 'blew': 1542, 'touches': 1543, 'angles': 1544, 'became': 1545, 'jimmy': 1546, 'sisters': 1547, 'terms': 1548, 'masterpiece': 1549, 'masterpieces': 1550, 'fill': 1551, 'imaginable': 1552, 'pieces': 1553, 'create': 1554, 'levels': 1555, 'canada': 1556, 'unfunny': 1557, 'generic': 1558, 'morgan': 1559, 'jonah': 1560, 'lazy': 1561, 'presence': 1562, 'obvious': 1563, 'french': 1564, 'whiny': 1565, 'future': 1566, 'warmth': 1567, 'delivering': 1568, 'unpredictable': 1569, 'badly': 1570, 'alexander': 1571, 'artist': 1572, 'lived': 1573, 'superbly': 1574, 'heaven': 1575, 'lives': 1576, 'church': 1577, 'tonight': 1578, 'uplifting': 1579, 'frankly': 1580, 'club': 1581, 'lane': 1582, 'chick': 1583, 'correct': 1584, 'bold': 1585, 'helps': 1586, 'accused': 1587, 'afraid': 1588, 'tremendously': 1589, 'sandra': 1590, 'bullock': 1591, 'moments': 1592, 'losing': 1593, 'ratings': 1594, 'dramatic': 1595, 'tension': 1596, 'central': 1597, 'themes': 1598, 'core': 1599, 'following': 1600, 'viewing': 1601, 'quinn': 1602, 'disliked': 1603, 'dollars': 1604, 'mad': 1605, 'cardboard': 1606, 'stereotypes': 1607, 'predictably': 1608, 'crafted': 1609, 'depressing': 1610, 'racism': 1611, 'explanation': 1612, 'drag': 1613, 'wayne': 1614, 'older': 1615, 'noteworthy': 1616, 'blood': 1617, 'forth': 1618, 'jamie': 1619, 'genius': 1620, 'hence': 1621, 'mishima': 1622, 'uninteresting': 1623, 'chilly': 1624, 'culture': 1625, 'schrader': 1626, 'realistic': 1627, 'talent': 1628, 'chance': 1629, 'senses': 1630, 'june': 1631, 'angry': 1632, 'sour': 1633, 'matter': 1634, 'complex': 1635, 'psychological': 1636, 'soul': 1637, 'gripping': 1638, 'disturbing': 1639, 'jerky': 1640, 'camerawork': 1641, 'witty': 1642, 'billy': 1643, 'ceases': 1644, 'directors': 1645, 'visually': 1646, 'spoiler': 1647, 'remaining': 1648, 'suffering': 1649, 'smile': 1650, 'vomited': 1651, 'coppola': 1652, 'unfolds': 1653, 'contrast': 1654, 'sublime': 1655, 'offensive': 1656, 'poetry': 1657, 'masterful': 1658, 'nature': 1659, 'disbelief': 1660, 'female': 1661, 'array': 1662, 'nuts': 1663, 'dangerous': 1664, 'reactions': 1665, 'twist': 1666, 'shed': 1667, 'underneath': 1668, 'wide': 1669, 'relationship': 1670, 'assistant': 1671, 'laugh': 1672, 'de': 1673, 'taped': 1674, 'wholesome': 1675, 'portraying': 1676, 'taking': 1677, 'forgetting': 1678, 'attempts': 1679, 'situation': 1680, 'bear': 1681, 'kinda': 1682, 'question': 1683, 'lucy': 1684, 'japanese': 1685, 'america': 1686, 'photography': 1687, 'composition': 1688, 'brian': 1689, 'largely': 1690, 'member': 1691, 'identify': 1692, 'connery': 1693, 'robert': 1694, 'murdered': 1695, 'humour': 1696, 'brother': 1697, 'ryan': 1698, 'hollywood': 1699, 'thus': 1700, 'undoubtedly': 1701, 'popular': 1702, 'positive': 1703, 'unique': 1704, 'european': 1705, 'circumstances': 1706, 'caught': 1707, 'junkyard': 1708, 'dogs': 1709, 'american': 1710, 'americans': 1711, 'pile': 1712, 'round': 1713, 'continuity': 1714, 'corn': 1715, 'box': 1716, 'directorial': 1717, 'proud': 1718, 'sand': 1719, 'sake': 1720, 'jobs': 1721, 'girlfriend': 1722, 'public': 1723, 'fox': 1724, 'unrecognizable': 1725, 'relations': 1726, 'taylor': 1727, 'surprising': 1728, 'entirely': 1729, 'chow': 1730, 'cheesy': 1731, 'proceedings': 1732, 'remotely': 1733, 'mercy': 1734, 'killing': 1735, 'overacting': 1736, 'awkwardly': 1737, 'english': 1738, 'hackneyed': 1739, 'blah': 1740, 'length': 1741, 'air': 1742, 'afternoon': 1743, 'creates': 1744, 'fascinating': 1745, 'humorous': 1746, 'filmed': 1747, 'thoughts': 1748, 'dislike': 1749, 'began': 1750, 'change': 1751, 'season': 1752, 'contains': 1753, 'reality': 1754, 'century': 1755, 'implausible': 1756, 'jean': 1757, 'studio': 1758, 'indoor': 1759, 'start': 1760, 'class': 1761, 'betty': 1762, 'aside': 1763, 'mouse': 1764, 'famous': 1765, 'turkey': 1766, 'among': 1767, 'terribly': 1768, 'deserving': 1769, 'shame': 1770, 'version': 1771, 'dumb': 1772, 'monster': 1773, 'lack': 1774, 'notable': 1775, 'opening': 1776, 'sequence': 1777, 'gas': 1778, 'fair': 1779, 'teeth': 1780, 'sum': 1781, 'avoided': 1782, 'limited': 1783, 'sign': 1784, 'asleep': 1785, 'cartoons': 1786, 'deserved': 1787, 'element': 1788, 'fifteen': 1789, 'volcano': 1790, 'abysmal': 1791, 'vomit': 1792, 'miss': 1793, 'dedication': 1794, 'versus': 1795, 'mature': 1796, 'brings': 1797, 'focus': 1798, 'underlying': 1799, 'relationships': 1800, 'engaging': 1801, 'errol': 1802, 'flynn': 1803, 'dull': 1804, 'guests': 1805, 'surrounding': 1806, 'excellently': 1807, 'tops': 1808, 'typical': 1809, 'revealing': 1810, 'africa': 1811, 'process': 1812, 'shakespear': 1813, 'macbeth': 1814, 'brief': 1815, 'moral': 1816, 'decay': 1817, 'forces': 1818, 'evil': 1819, 'adaptation': 1820, 'costumes': 1821, 'ball': 1822, 'judging': 1823, 'difference': 1824, 'documentaries': 1825, 'joe': 1826, 'watkins': 1827, 'peter': 1828, 'hollow': 1829, 'cole': 1830, 'disgrace': 1831, 'sleep': 1832, 'achievement': 1833, 'kid': 1834, 'tough': 1835, 'whenever': 1836, 'earth': 1837, 'emily': 1838, 'watson': 1839, 'prepared': 1840, 'compelling': 1841, 'sentiment': 1842, 'trap': 1843, 'fulci': 1844, 'personally': 1845, 'thick': 1846, 'blown': 1847, 'events': 1848, 'result': 1849, 'slightest': 1850, 'duet': 1851, 'astronaut': 1852, 'doctor': 1853, 'extraordinary': 1854, 'courtroom': 1855, 'highlights': 1856, 'discovering': 1857, 'court': 1858, 'paced': 1859, 'understated': 1860, 'smells': 1861, 'pack': 1862, 'phenomenal': 1863, 'opinion': 1864, 'neil': 1865, 'delights': 1866, 'sample': 1867, 'deliver': 1868, 'sharply': 1869, 'tongue': 1870, 'cheek': 1871, 'struggle': 1872, 'heads': 1873, 'reminded': 1874, 'childhood': 1875, 'nut': 1876, 'lord': 1877, 'atrocious': 1878, 'spoil': 1879, 'references': 1880, 'act': 1881, 'pacing': 1882, 'consistent': 1883, 'dreams': 1884, 'uses': 1885, 'hopefully': 1886, 'hip': 1887, 'loneliness': 1888, 'emilio': 1889, 'estevez': 1890, 'interplay': 1891, 'suggest': 1892, 'natural': 1893, 'street': 1894, 'readers': 1895, 'hearts': 1896, 'closed': 1897, 'depicts': 1898, 'provoking': 1899, 'reasons': 1900, 'ponyo': 1901, 'refreshing': 1902, 'traditional': 1903, 'wants': 1904, 'wave': 1905, 'deep': 1906, 'lange': 1907, 'crust': 1908, 'cashier': 1909, 'mmmm': 1910, 'overwhelmed': 1911, 'bite': 1912, 'familiar': 1913, 'favor': 1914, 'grossed': 1915, 'char': 1916, 'attitudes': 1917, 'customers': 1918, 'portion': 1919, 'attack': 1920, 'grill': 1921, 'downtown': 1922, 'scallop': 1923, 'refill': 1924, 'appetizers': 1925, 'batter': 1926, 'finish': 1927, 'meh': 1928, 'min': 1929, 'seasoned': 1930, 'opportunity': 1931, 'underwhelming': 1932, 'grease': 1933, 'roast': 1934, 'sugary': 1935, 'six': 1936, 'die': 1937, 'bye': 1938, 'serves': 1939, 'roasted': 1940, 'garlic': 1941, 'marrow': 1942, 'mary': 1943, 'bartender': 1944, 'lovers': 1945, 'preparing': 1946, 'indian': 1947, 'tuna': 1948, 'bagels': 1949, 'dine': 1950, 'rarely': 1951, 'curry': 1952, 'bathrooms': 1953, 'decorated': 1954, 'greeted': 1955, 'joint': 1956, 'overcooked': 1957, 'charcoal': 1958, 'decided': 1959, 'dirt': 1960, 'gyros': 1961, 'valley': 1962, 'bowl': 1963, 'disrespected': 1964, 'gold': 1965, 'puree': 1966, 'bug': 1967, 'shower': 1968, 'bisque': 1969, 'filet': 1970, 'pepper': 1971, 'cook': 1972, 'dealing': 1973, 'cheeseburger': 1974, 'yum': 1975, 'mayo': 1976, 'building': 1977, 'creamy': 1978, 'similar': 1979, 'sticks': 1980, 'tap': 1981, 'par': 1982, 'coffee': 1983, 'boba': 1984, 'taco': 1985, 'bachi': 1986, 'salads': 1987, 'neighborhood': 1988, 'soooo': 1989, 'stir': 1990, 'summer': 1991, 'toasted': 1992, 'serve': 1993, 'bites': 1994, 'omg': 1995, 'brick': 1996, 'oven': 1997, 'pancakes': 1998, 'eggs': 1999, 'evening': 2000, 'lukewarm': 2001, 'eggplant': 2002, 'stuffed': 2003, 'mall': 2004, 'perfection': 2005, 'impeccable': 2006, 'pop': 2007, 'assure': 2008, 'professional': 2009, 'nicest': 2010, 'biscuits': 2011, 'cow': 2012, 'driest': 2013, 'tots': 2014, 'acknowledged': 2015, 'margaritas': 2016, 'flower': 2017, 'group': 2018, 'crab': 2019, 'legs': 2020, 'sliced': 2021, 'filling': 2022, 'choose': 2023, 'entrees': 2024, 'tapas': 2025, 'vinegrette': 2026, 'helped': 2027, 'presentation': 2028, 'satisfying': 2029, 'grilled': 2030, 'focused': 2031, 'promise': 2032, 'legit': 2033, 'staying': 2034, 'fail': 2035, 'plate': 2036, 'serving': 2037, 'fly': 2038, 'mid': 2039, 'definately': 2040, 'flavorless': 2041, 'nachos': 2042, 'tribute': 2043, 'fell': 2044, 'heat': 2045, 'undercooked': 2046, 'converter': 2047, 'tied': 2048, 'jiggle': 2049, 'hundred': 2050, 'seperated': 2051, 'mere': 2052, 'ft': 2053, 'excessive': 2054, 'garbled': 2055, 'fooled': 2056, 'clicks': 2057, 'mechanism': 2058, 'followed': 2059, 'directions': 2060, 'kindle': 2061, 'commercials': 2062, 'misleading': 2063, 'couldnt': 2064, 'earphone': 2065, 'breakage': 2066, 'unacceptible': 2067, 'ideal': 2068, 'whose': 2069, 'sensitive': 2070, 'freeway': 2071, 'ac': 2072, 'mins': 2073, 'pics': 2074, 'arguing': 2075, 'bulky': 2076, 'usable': 2077, 'useful': 2078, 'stream': 2079, 'submerged': 2080, 'faceplates': 2081, 'drawback': 2082, 'pause': 2083, 'activated': 2084, 'suddenly': 2085, 'ipods': 2086, 'bmw': 2087, 'hearing': 2088, 'wrongly': 2089, 'everyday': 2090, 'intended': 2091, 'runs': 2092, 'greater': 2093, 'buds': 2094, 'waaay': 2095, 'bluetooths': 2096, 'listener': 2097, 'integrated': 2098, 'flush': 2099, 'toilet': 2100, 'styles': 2101, 'correctly': 2102, 'megapixels': 2103, 'renders': 2104, 'images': 2105, 'purcashed': 2106, 'geeky': 2107, 'oozes': 2108, 'embedded': 2109, 'stylish': 2110, 'qwerty': 2111, 'simpler': 2112, 'iam': 2113, 'disapoinment': 2114, 'accompanied': 2115, 'nicely': 2116, 'damage': 2117, 'definitly': 2118, 'majority': 2119, 'upstairs': 2120, 'basement': 2121, 'reccomendation': 2122, 'relative': 2123, 'items': 2124, 'sudden': 2125, 'linking': 2126, 'curve': 2127, 'sketchy': 2128, 'web': 2129, 'browsing': 2130, 'significantly': 2131, 'build': 2132, 'unlike': 2133, 'colors': 2134, 'communications': 2135, 'communicate': 2136, 'monkeys': 2137, 'dna': 2138, 'copy': 2139, 'bougth': 2140, 'mode': 2141, 'file': 2142, 'browser': 2143, 'os': 2144, 'crawl': 2145, 'recognizes': 2146, 'bluetoooth': 2147, 'thorn': 2148, 'abhor': 2149, 'disconnected': 2150, 'mail': 2151, 'backlight': 2152, 'message': 2153, 'lately': 2154, 'wit': 2155, 'pleather': 2156, 'deaf': 2157, 'prettier': 2158, 'investment': 2159, 'ticking': 2160, 'noises': 2161, 'electronics': 2162, 'available': 2163, 'fm': 2164, 'transmitters': 2165, 'mega': 2166, 'pixel': 2167, 'transmit': 2168, 'contacting': 2169, 'dollar': 2170, 'learned': 2171, 'lesson': 2172, 'online': 2173, 'earbugs': 2174, 'roam': 2175, 'crack': 2176, 'infatuated': 2177, 'freezes': 2178, 'tick': 2179, 'headbands': 2180, 'ericsson': 2181, 'purchases': 2182, 'shine': 2183, 'calendar': 2184, 'sync': 2185, 'defeats': 2186, 'purpose': 2187, 'penny': 2188, 'wallet': 2189, 'excrutiatingly': 2190, 'glove': 2191, 'durable': 2192, 'factor': 2193, 'stereo': 2194, 'absolutel': 2195, 'potentially': 2196, 'reversible': 2197, 'contstruct': 2198, 'hinge': 2199, 'installed': 2200, 'overnite': 2201, 'handset': 2202, 'attacked': 2203, 'protective': 2204, 'destroying': 2205, 'razor': 2206, 'wise': 2207, 'shouldve': 2208, 'invented': 2209, 'sooner': 2210, 'engineered': 2211, 'complained': 2212, 'tracfone': 2213, 'instruction': 2214, 'manual': 2215, 'alarm': 2216, 'clock': 2217, 'antena': 2218, 'compared': 2219, 'state': 2220, 'usage': 2221, 'ngage': 2222, 'earbuds': 2223, 'riingtones': 2224, 'rip': 2225, 'frequentyly': 2226, 'adhesive': 2227, 'concrete': 2228, 'knock': 2229, 'wood': 2230, 'transformed': 2231, 'organizational': 2232, 'capability': 2233, 'vehicle': 2234, 'cradle': 2235, 'jerks': 2236, 'starter': 2237, 'loudspeaker': 2238, 'option': 2239, 'bumpers': 2240, 'lights': 2241, 'improve': 2242, 'leaks': 2243, 'according': 2244, 'applifies': 2245, 'specially': 2246, 'transmission': 2247, 'drivng': 2248, 'auto': 2249, 'reverse': 2250, 'tape': 2251, 'embarassing': 2252, 'protects': 2253, 'operates': 2254, 'soyo': 2255, 'portraits': 2256, 'exterior': 2257, 'mentioned': 2258, 'gadgets': 2259, 'magical': 2260, 'offering': 2261, 'encourage': 2262, 'recieve': 2263, 'cradles': 2264, 'kits': 2265, 'excelent': 2266, 'cingulair': 2267, 'nicer': 2268, 'hoursthe': 2269, 'thereplacement': 2270, 'yell': 2271, 'iriver': 2272, 'spinn': 2273, 'fond': 2274, 'magnetic': 2275, 'strap': 2276, 'psyched': 2277, 'appointments': 2278, 'sanyo': 2279, 'survived': 2280, 'dozens': 2281, 'blacktop': 2282, 'ill': 2283, 'earphones': 2284, 'cellular': 2285, 'awsome': 2286, 'drained': 2287, 'earpad': 2288, 'displeased': 2289, 'defect': 2290, 'risk': 2291, 'restored': 2292, 'searched': 2293, 'key': 2294, 'pad': 2295, 'lit': 2296, 'portable': 2297, 'colleague': 2298, 'bed': 2299, 'morning': 2300, 'hat': 2301, 'shipment': 2302, 'surefire': 2303, 'buyers': 2304, 'remorse': 2305, 'accessoryone': 2306, 'inexcusable': 2307, 'carriers': 2308, 'tmobile': 2309, 'procedure': 2310, 'motorolas': 2311, 'env': 2312, 'rocketed': 2313, 'destination': 2314, 'unknown': 2315, 'conditions': 2316, 'usefulness': 2317, 'bills': 2318, 'plans': 2319, 'overnight': 2320, 'respect': 2321, 'stuck': 2322, 'max': 2323, 'mute': 2324, 'hybrid': 2325, 'excels': 2326, 'bose': 2327, 'cancelling': 2328, 'commuter': 2329, 'photo': 2330, 'ad': 2331, 'noted': 2332, 'happens': 2333, 'frog': 2334, 'pushed': 2335, 'aluminum': 2336, 'vx': 2337, 'protected': 2338, 'handheld': 2339, 'tools': 2340, 'sturdiness': 2341, 'source': 2342, 'waterproof': 2343, 'sliding': 2344, 'pants': 2345, 'pockets': 2346, 'shield': 2347, 'incrediable': 2348, 'refuse': 2349, 'activate': 2350, 'threw': 2351, 'window': 2352, 'inches': 2353, 'counter': 2354, 'laughing': 2355, 'trunk': 2356, 'carried': 2357, 'hitch': 2358, 'directly': 2359, 'increase': 2360, 'shifting': 2361, 'bubbling': 2362, 'peeling': 2363, 'scratch': 2364, 'droid': 2365, 'exercise': 2366, 'earset': 2367, 'outgoing': 2368, 'package': 2369, 'patient': 2370, 'wirefly': 2371, 'contact': 2372, 'inform': 2373, 'practice': 2374, 'aggravating': 2375, 'virgin': 2376, 'muddy': 2377, 'casing': 2378, 'insert': 2379, 'glued': 2380, 'slid': 2381, 'plantronincs': 2382, 'continues': 2383, 'disapointing': 2384, 'fourth': 2385, 'fixes': 2386, 'accessing': 2387, 'downloading': 2388, 'performing': 2389, 'functions': 2390, 'constantly': 2391, 'unacceptable': 2392, 'happening': 2393, 'adapters': 2394, 'procedures': 2395, 'wiping': 2396, 'strength': 2397, 'louder': 2398, 'navigate': 2399, 'recessed': 2400, 'avoiding': 2401, 'smoking': 2402, 'linked': 2403, 'possesed': 2404, 'research': 2405, 'division': 2406, 'infuriating': 2407, 'walkman': 2408, 'charges': 2409, 'europe': 2410, 'asia': 2411, 'clipping': 2412, 'deffinitely': 2413, 'cent': 2414, 'behing': 2415, 'comfortible': 2416, 'pain': 2417, 'arrival': 2418, 'fraction': 2419, 'crappy': 2420, 'seeen': 2421, 'interface': 2422, 'decade': 2423, 'compete': 2424, 'designs': 2425, 'transceiver': 2426, 'steer': 2427, 'replacementr': 2428, 'pens': 2429, 'buyit': 2430, 'beats': 2431, 'fingers': 2432, 'steep': 2433, 'haul': 2434, 'dissapointing': 2435, 'originally': 2436, 'discarded': 2437, 'posted': 2438, 'detailed': 2439, 'grey': 2440, 'existing': 2441, 'cds': 2442, 'currently': 2443, 'shooters': 2444, 'delay': 2445, 'messes': 2446, 'bitpim': 2447, 'program': 2448, 'transfer': 2449, 'accessory': 2450, 'manufacturer': 2451, 'muffled': 2452, 'incoming': 2453, 'severe': 2454, 'contacted': 2455, 'receipt': 2456, 'linksys': 2457, 'refurb': 2458, 'snug': 2459, 'heavy': 2460, 'promised': 2461, 'loop': 2462, 'latch': 2463, 'visor': 2464, 'address': 2465, 'tungsten': 2466, 'flipphones': 2467, 'sins': 2468, 'industrial': 2469, 'tracking': 2470, 'detachable': 2471, 'periodically': 2472, 'upload': 2473, 'locks': 2474, 'screens': 2475, 'randomly': 2476, 'locked': 2477, 'cellphone': 2478, 'ringer': 2479, 'acceptable': 2480, 'upbeat': 2481, 'forgeries': 2482, 'abound': 2483, 'smallest': 2484, 'stays': 2485, 'drains': 2486, 'superfast': 2487, 'ergonomic': 2488, 'theory': 2489, 'clips': 2490, 'distracting': 2491, 'cbr': 2492, 'preferably': 2493, 'windows': 2494, 'media': 2495, 'sos': 2496, 'signals': 2497, 'connect': 2498, 'near': 2499, 'startac': 2500, 'regretted': 2501, 'outperform': 2502, 'china': 2503, 'sim': 2504, 'replaced': 2505, 'connecting': 2506, 'sources': 2507, 'imac': 2508, 'external': 2509, 'bells': 2510, 'whistles': 2511, 'slide': 2512, 'grip': 2513, 'prevents': 2514, 'slipping': 2515, 'exclaim': 2516, 'whoa': 2517, 'corded': 2518, 'functional': 2519, 'soft': 2520, 'tight': 2521, 'shape': 2522, 'copier': 2523, 'sent': 2524, 'anywhere': 2525, 'sold': 2526, 'units': 2527, 'classy': 2528, 'krussel': 2529, 'tracfonewebsite': 2530, 'toactivate': 2531, 'texas': 2532, 'dit': 2533, 'blueant': 2534, 'supertooth': 2535, 'pcs': 2536, 'slider': 2537, 'premium': 2538, 'plugs': 2539, 'capacity': 2540, 'confortable': 2541, 'periods': 2542, 'ant': 2543, 'hey': 2544, 'pleasantly': 2545, 'suprised': 2546, 'dustpan': 2547, 'indoors': 2548, 'disposable': 2549, 'puff': 2550, 'ride': 2551, 'smoother': 2552, 'nano': 2553, 'dissapointed': 2554, 'reccommend': 2555, 'smartphone': 2556, 'atleast': 2557, 'amp': 2558, 'somewhere': 2559, 'creaks': 2560, 'floor': 2561, 'apartment': 2562, 'inconspicuous': 2563, 'slowly': 2564, 'upgrade': 2565, 'securly': 2566, 'possibility': 2567, 'booking': 2568, 'entertainment': 2569, 'communication': 2570, 'activesync': 2571, 'optimal': 2572, 'synchronization': 2573, 'coupon': 2574, 'instance': 2575, 'cheapy': 2576, 'shouting': 2577, 'shiny': 2578, 'grtting': 2579, 'exceeds': 2580, 'sight': 2581, 'improper': 2582, 'palms': 2583, 'hoped': 2584, 'pads': 2585, 'stops': 2586, 'intermittently': 2587, 'reaching': 2588, 'keys': 2589, 'nightmare': 2590, 'speakerphone': 2591, 'cassette': 2592, 'cellphones': 2593, 'planning': 2594, 'products': 2595, 'sensor': 2596, 'reliability': 2597, 'beeping': 2598, 'dieing': 2599, 'ir': 2600, 'cancellation': 2601, 'counterfeit': 2602, 'travled': 2603, 'swivel': 2604, 'keeping': 2605, 'bottowm': 2606, 'gimmick': 2607, 'opens': 2608, 'causing': 2609, 'trust': 2610, 'maintains': 2611, 'flawless': 2612, 'devices': 2613, 'holder': 2614, 'loops': 2615, 'owning': 2616, 'official': 2617, 'oem': 2618, 'loudest': 2619, 'competitors': 2620, 'saved': 2621, 'alot': 2622, 'unintelligible': 2623, 'restart': 2624, 'bend': 2625, 'leaf': 2626, 'metal': 2627, 'stress': 2628, 'leopard': 2629, 'print': 2630, 'saggy': 2631, 'floppy': 2632, 'looses': 2633, 'snap': 2634, 'fliptop': 2635, 'wobbly': 2636, 'eventually': 2637, 'fulfills': 2638, 'requirements': 2639, 'rests': 2640, 'websites': 2641, 'cables': 2642, 'lap': 2643, 'controls': 2644, 'accessable': 2645, 'mine': 2646, 'satisifed': 2647, 'specs': 2648, 'armband': 2649, 'allot': 2650, 'clearer': 2651, 'keypads': 2652, 'reach': 2653, 'ericson': 2654, 'motor': 2655, 'center': 2656, 'voltage': 2657, 'humming': 2658, 'equipment': 2659, 'wake': 2660, 'styling': 2661, 'restocking': 2662, 'fee': 2663, 'darn': 2664, 'sweetest': 2665, 'securely': 2666, 'hook': 2667, 'canal': 2668, 'videos': 2669, 'negatively': 2670, 'adapter': 2671, 'provide': 2672, 'assumed': 2673, 'lense': 2674, 'text': 2675, 'messaging': 2676, 'tricky': 2677, 'lasted': 2678, 'flops': 2679, 'smudged': 2680, 'infra': 2681, 'port': 2682, 'irda': 2683, 'answer': 2684, 'aimless': 2685, 'distressed': 2686, 'drifting': 2687, 'attempting': 2688, 'artiness': 2689, 'gerardo': 2690, 'emptiness': 2691, 'science': 2692, 'teacher': 2693, 'owls': 2694, 'florida': 2695, 'muppets': 2696, 'overdue': 2697, 'screenplay': 2698, 'structure': 2699, 'tightly': 2700, 'vitally': 2701, 'occurs': 2702, 'content': 2703, 'superlative': 2704, 'require': 2705, 'pulls': 2706, 'punches': 2707, 'th': 2708, 'insane': 2709, 'unlockable': 2710, 'aye': 2711, 'doomed': 2712, 'conception': 2713, 'minor': 2714, 'confirm': 2715, 'exaggerating': 2716, 'trailer': 2717, 'carrell': 2718, 'freeman': 2719, 'helms': 2720, 'animals': 2721, 'integration': 2722, 'translate': 2723, 'succeeds': 2724, 'meagre': 2725, 'lesser': 2726, 'cancan': 2727, 'boasts': 2728, 'cutest': 2729, 'leading': 2730, 'insipid': 2731, 'efforts': 2732, 'heche': 2733, 'sam': 2734, 'shepard': 2735, 'gung': 2736, 'ho': 2737, 'marine': 2738, 'sobering': 2739, 'riveted': 2740, 'resounding': 2741, 'hanks': 2742, 'fingernails': 2743, 'chalkboard': 2744, 'unnecessary': 2745, 'coaster': 2746, 'grates': 2747, 'nerves': 2748, 'improved': 2749, 'improvisation': 2750, 'worry': 2751, 'surroundings': 2752, 'crackles': 2753, 'youthful': 2754, 'concentrate': 2755, 'meanders': 2756, 'builders': 2757, 'cross': 2758, 'g': 2759, 'pg': 2760, 'predict': 2761, 'verbatim': 2762, 'chills': 2763, 'nevsky': 2764, 'whoever': 2765, 'planned': 2766, 'dodge': 2767, 'stratus': 2768, 'makers': 2769, 'restrained': 2770, 'québec': 2771, 'promote': 2772, 'suited': 2773, 'horrendous': 2774, 'retarded': 2775, 'girls': 2776, 'manna': 2777, 'evaluate': 2778, 'veteran': 2779, 'nostalgia': 2780, 'ursula': 2781, 'burton': 2782, 'nun': 2783, 'nuns': 2784, 'shirley': 2785, 'jones': 2786, 'rendition': 2787, 'cotton': 2788, 'unfaithful': 2789, 'gere': 2790, 'dialogs': 2791, 'shallow': 2792, 'insincere': 2793, 'politically': 2794, 'peaking': 2795, 'columbo': 2796, 'misplace': 2797, 'weaker': 2798, 'debated': 2799, 'sack': 2800, 'trumpeter': 2801, 'falsely': 2802, 'murder': 2803, 'applause': 2804, 'prelude': 2805, 'villain': 2806, 'michael': 2807, 'ironside': 2808, 'rocked': 2809, 'social': 2810, 'physical': 2811, 'outlets': 2812, 'ben': 2813, 'affleck': 2814, 'leaving': 2815, 'knocked': 2816, 'excruciatingly': 2817, 'wedding': 2818, 'agreed': 2819, 'aired': 2820, 'dribble': 2821, 'imdb': 2822, 'mirrormask': 2823, 'inexperience': 2824, 'meant': 2825, 'ineptly': 2826, 'stereotypically': 2827, 'schoolers': 2828, 'cry': 2829, 'relate': 2830, 'sharing': 2831, 'confuses': 2832, 'underwater': 2833, 'repeated': 2834, 'thousand': 2835, 'redeemed': 2836, 'fodder': 2837, 'anthony': 2838, 'horse': 2839, 'walk': 2840, 'theatre': 2841, 'relief': 2842, 'pillow': 2843, 'tickets': 2844, 'identifies': 2845, 'haggis': 2846, 'handle': 2847, 'strokes': 2848, 'storytelling': 2849, 'painted': 2850, 'crayons': 2851, 'crash': 2852, 'provokes': 2853, 'emotion': 2854, 'teaches': 2855, 'prejudice': 2856, 'empowerment': 2857, 'primal': 2858, 'impulse': 2859, 'shattered': 2860, 'recover': 2861, 'joins': 2862, 'revenge': 2863, 'boogeyman': 2864, 'zombiez': 2865, 'hellish': 2866, 'trinity': 2867, 'distinction': 2868, 'artless': 2869, 'endlessly': 2870, 'ugliest': 2871, 'merit': 2872, 'akin': 2873, 'atrocity': 2874, 'voyage': 2875, 'unrecommended': 2876, 'ms': 2877, 'garbo': 2878, 'bat': 2879, 'talents': 2880, 'netflix': 2881, 'stocking': 2882, 'renowned': 2883, 'frances': 2884, 'marion': 2885, 'suffered': 2886, 'heroes': 2887, 'shined': 2888, 'senior': 2889, 'showcasing': 2890, 'punched': 2891, 'gallon': 2892, 'spew': 2893, 'foxx': 2894, 'owns': 2895, 'spacek': 2896, 'coal': 2897, 'miner': 2898, 'quaid': 2899, 'balls': 2900, 'legendary': 2901, 'biographical': 2902, 'musician': 2903, 'ironically': 2904, 'secondly': 2905, 'perfected': 2906, 'chase': 2907, 'pandering': 2908, 'sabotages': 2909, 'rumbles': 2910, 'desperately': 2911, 'depending': 2912, 'logic': 2913, 'unremarkable': 2914, 'author': 2915, 'abstruse': 2916, 'reenactments': 2917, 'emotionally': 2918, 'adrift': 2919, 'stagy': 2920, 'sits': 2921, 'soldiers': 2922, 'masculinity': 2923, 'pledge': 2924, 'hairsplitting': 2925, 'purity': 2926, 'admiration': 2927, 'swords': 2928, 'kill': 2929, 'momentum': 2930, 'quicker': 2931, 'resume': 2932, 'amateurish': 2933, 'fascinated': 2934, 'inconsistencies': 2935, 'horrid': 2936, 'ballet': 2937, 'repertory': 2938, 'developments': 2939, 'woa': 2940, 'sappiest': 2941, 'unwatchable': 2942, 'filmography': 2943, 'site': 2944, 'intentions': 2945, 'undertone': 2946, 'fifties': 2947, 'existential': 2948, 'ought': 2949, 'regrettably': 2950, 'expression': 2951, 'celebration': 2952, 'patriotism': 2953, 'underlines': 2954, 'allison': 2955, 'concert': 2956, 'sequences': 2957, 'ridiculousness': 2958, 'surface': 2959, 'conceptually': 2960, 'everybody': 2961, 'fantasy': 2962, 'considered': 2963, 'understood': 2964, 'identified': 2965, 'belmondo': 2966, 'lino': 2967, 'ventura': 2968, 'portrayals': 2969, 'detailing': 2970, 'loyalty': 2971, 'treachery': 2972, 'melville': 2973, 'manages': 2974, 'transcend': 2975, 'limitations': 2976, 'indie': 2977, 'continually': 2978, 'subverting': 2979, 'emerge': 2980, 'intense': 2981, 'crocdodile': 2982, 'believed': 2983, 'crocs': 2984, 'swamp': 2985, 'christopher': 2986, 'eccleston': 2987, 'tardis': 2988, 'continuation': 2989, 'succeeded': 2990, 'pi': 2991, 'witticisms': 2992, 'bob': 2993, 'rise': 2994, 'finale': 2995, 'kieslowski': 2996, 'amaze': 2997, 'colours': 2998, 'flag': 2999, 'connections': 3000, 'survivors': 3001, 'ferry': 3002, 'valentine': 3003, 'solidifying': 3004, 'happiness': 3005, 'dealt': 3006, 'roth': 3007, 'pearls': 3008, 'awarded': 3009, 'eloquently': 3010, 'francis': 3011, 'ford': 3012, 'gradually': 3013, 'develop': 3014, 'lies': 3015, 'nicola': 3016, 'roeg': 3017, 'wih': 3018, 'translating': 3019, 'strives': 3020, 'greatness': 3021, 'muddled': 3022, 'disparate': 3023, 'accurately': 3024, 'defined': 3025, 'tolerate': 3026, 'political': 3027, 'incorrectness': 3028, 'artistic': 3029, 'suspension': 3030, 'slavic': 3031, 'outlandish': 3032, 'psychotic': 3033, 'lovable': 3034, 'enjoyment': 3035, 'repair': 3036, 'bitchy': 3037, 'boss': 3038, 'tear': 3039, 'malta': 3040, 'settings': 3041, 'barren': 3042, 'hockey': 3043, 'defensemen': 3044, 'goalies': 3045, 'diving': 3046, 'net': 3047, 'superficial': 3048, 'farce': 3049, 'pyromaniac': 3050, 'waylaid': 3051, 'switched': 3052, 'yawn': 3053, 'educational': 3054, 'barney': 3055, 'duper': 3056, 'babie': 3057, 'bop': 3058, 'storm': 3059, 'trooper': 3060, 'potted': 3061, 'plants': 3062, 'shameful': 3063, 'television': 3064, 'writers': 3065, 'smack': 3066, 'bonus': 3067, 'episodes': 3068, 'latched': 3069, 'endearing': 3070, 'sibling': 3071, 'bond': 3072, 'unneeded': 3073, 'controversy': 3074, 'damian': 3075, 'versatile': 3076, 'cutting': 3077, 'passion': 3078, 'ireland': 3079, 'horrified': 3080, 'sympathetic': 3081, 'movements': 3082, 'shelf': 3083, 'elias': 3084, 'koteas': 3085, 'palance': 3086, 'angelina': 3087, 'cameo': 3088, 'sven': 3089, 'ole': 3090, 'thorsen': 3091, 'ebay': 3092, 'poler': 3093, 'fort': 3094, 'steele': 3095, 'unrealistic': 3096, 'bell': 3097, 'higher': 3098, 'sink': 3099, 'slackers': 3100, 'excuses': 3101, 'actions': 3102, 'excerpts': 3103, 'designed': 3104, 'stylized': 3105, 'exemplars': 3106, 'designer': 3107, 'powerful': 3108, 'explorations': 3109, 'politics': 3110, 'rendering': 3111, 'imperial': 3112, 'faultless': 3113, 'underappreciated': 3114, 'keith': 3115, 'bully': 3116, 'teddy': 3117, 'vivid': 3118, 'sean': 3119, 'noble': 3120, 'brigand': 3121, 'candace': 3122, 'bergen': 3123, 'feisty': 3124, 'heroine': 3125, 'wily': 3126, 'hay': 3127, 'kanaly': 3128, 'spiffy': 3129, 'radiant': 3130, 'lieutenant': 3131, 'roosevelt': 3132, 'stick': 3133, 'adventure': 3134, 'ryans': 3135, 'portrayed': 3136, 'schizophrenic': 3137, 'affected': 3138, 'apt': 3139, 'imitation': 3140, 'individual': 3141, 'tuneful': 3142, 'rita': 3143, 'hayworth': 3144, 'pedestal': 3145, 'exploit': 3146, 'financial': 3147, 'gain': 3148, 'narration': 3149, 'flashbacks': 3150, 'articulated': 3151, 'monica': 3152, 'bellucci': 3153, 'commentary': 3154, 'timers': 3155, 'laughs': 3156, 'northern': 3157, 'community': 3158, 'represents': 3159, 'vivian': 3160, 'schilling': 3161, 'theatres': 3162, 'screamy': 3163, 'masculine': 3164, 'casted': 3165, 'throwback': 3166, 'student': 3167, 'experiences': 3168, 'abroad': 3169, 'interacting': 3170, 'nationalities': 3171, 'slightly': 3172, 'ticker': 3173, 'buildings': 3174, 'locations': 3175, 'hummh': 3176, 'yelps': 3177, 'hes': 3178, 'funniest': 3179, 'curtain': 3180, 'edition': 3181, 'lid': 3182, 'romantic': 3183, 'laughed': 3184, 'chosen': 3185, 'tortured': 3186, 'blatant': 3187, 'propaganda': 3188, 'hatred': 3189, 'admitted': 3190, 'school': 3191, 'admins': 3192, 'thunderbirds': 3193, 'needlessly': 3194, 'repeats': 3195, 'backed': 3196, 'vehicles': 3197, 'flakes': 3198, 'bordered': 3199, 'stupidity': 3200, 'filmmaker': 3201, 'hide': 3202, 'monumental': 3203, 'halfway': 3204, 'embarrassed': 3205, 'howell': 3206, 'stephen': 3207, 'mchattie': 3208, 'lance': 3209, 'hendrikson': 3210, 'raging': 3211, 'cheekbones': 3212, 'professionals': 3213, 'debbie': 3214, 'rochon': 3215, 'contributory': 3216, 'former': 3217, 'tolerable': 3218, 'simplifying': 3219, 'brevity': 3220, 'fulfilling': 3221, 'amusing': 3222, 'convoluted': 3223, 'convince': 3224, 'questioning': 3225, 'bela': 3226, 'lugosi': 3227, 'extraneous': 3228, 'intoning': 3229, 'decidely': 3230, 'universal': 3231, 'b': 3232, 'armand': 3233, 'assante': 3234, 'tying': 3235, 'comprehensible': 3236, 'hang': 3237, 'camp': 3238, 'expecting': 3239, 'iq': 3240, 'mollusk': 3241, 'loosely': 3242, 'string': 3243, 'lower': 3244, 'scripts': 3245, 'victor': 3246, 'mclaglen': 3247, 'donlevy': 3248, 'president': 3249, 'unmoving': 3250, 'producer': 3251, 'gifted': 3252, 'cheerless': 3253, 'heist': 3254, 'characterisation': 3255, 'underbite': 3256, 'stoic': 3257, 'emoting': 3258, 'yun': 3259, 'tomorrow': 3260, 'abandoned': 3261, 'factory': 3262, 'executed': 3263, 'flying': 3264, 'judo': 3265, 'la': 3266, 'woo': 3267, 'squibs': 3268, 'derivative': 3269, 'hopeless': 3270, 'uneasy': 3271, 'composed': 3272, 'elderly': 3273, 'babbling': 3274, 'overwrought': 3275, 'gibberish': 3276, 'corny': 3277, 'teen': 3278, 'goth': 3279, 'blush': 3280, 'olde': 3281, 'latin': 3282, 'sloppy': 3283, 'balanced': 3284, 'underacting': 3285, 'competent': 3286, 'jerry': 3287, 'falwell': 3288, 'starring': 3289, 'jaclyn': 3290, 'smith': 3291, 'lifetime': 3292, 'sells': 3293, 'assaulted': 3294, 'strident': 3295, 'cords': 3296, 'blare': 3297, 'pap': 3298, 'screened': 3299, 'punish': 3300, 'unemployed': 3301, 'understatement': 3302, 'universe': 3303, 'team': 3304, 'trond': 3305, 'fausa': 3306, 'aurvåg': 3307, 'bothersome': 3308, 'comment': 3309, 'move': 3310, 'initially': 3311, 'local': 3312, 'sites': 3313, 'buffalo': 3314, 'intrigued': 3315, 'applauded': 3316, 'lilt': 3317, 'duris': 3318, 'views': 3319, 'barcelona': 3320, 'famed': 3321, 'gaudi': 3322, 'towers': 3323, 'despised': 3324, 'rough': 3325, 'draft': 3326, 'shooting': 3327, 'completed': 3328, 'personalities': 3329, 'twists': 3330, 'occur': 3331, 'irritating': 3332, 'indescribably': 3333, 'idiotic': 3334, 'idiot': 3335, 'cheesiness': 3336, 'unethical': 3337, 'zillion': 3338, 'washing': 3339, 'twirling': 3340, 'grade': 3341, 'z': 3342, 'road': 3343, 'silly': 3344, 'noir': 3345, 'unmitigated': 3346, 'blandly': 3347, 'edward': 3348, 'chodorov': 3349, 'negulesco': 3350, 'widmark': 3351, 'unintentionally': 3352, 'comical': 3353, 'marbles': 3354, 'marred': 3355, 'constant': 3356, 'exteriors': 3357, 'prompted': 3358, 'upper': 3359, 'uptight': 3360, 'mistakes': 3361, 'jokes': 3362, 'offend': 3363, 'littered': 3364, 'overt': 3365, 'slurs': 3366, 'members': 3367, 'whites': 3368, 'depicted': 3369, 'morons': 3370, 'boobs': 3371, 'lets': 3372, 'major': 3373, 'destroy': 3374, 'latifa': 3375, 'wouldnt': 3376, 'steamboat': 3377, 'willie': 3378, 'amazingly': 3379, 'plane': 3380, 'tons': 3381, 'granted': 3382, 'pleaser': 3383, 'timeless': 3384, 'straw': 3385, 'cruel': 3386, 'bipolarity': 3387, 'thug': 3388, 'luv': 3389, 'diaper': 3390, 'commercial': 3391, 'awards': 3392, 'accolades': 3393, 'body': 3394, 'garfield': 3395, 'ann': 3396, 'revere': 3397, 'lilli': 3398, 'plmer': 3399, 'william': 3400, 'conrad': 3401, 'lee': 3402, 'cinematographers': 3403, 'wong': 3404, 'howe': 3405, 'qualities': 3406, 'thomerson': 3407, 'professor': 3408, 'established': 3409, 'necklace': 3410, 'containing': 3411, 'meteorite': 3412, 'matthews': 3413, 'grim': 3414, 'aspects': 3415, 'gore': 3416, 'convention': 3417, 'cg': 3418, 'slideshow': 3419, 'explosion': 3420, 'tanks': 3421, 'okay': 3422, 'critic': 3423, 'creature': 3424, 'ta': 3425, 'slimy': 3426, 'drooling': 3427, 'breeders': 3428, 'ebola': 3429, 'virus': 3430, 'charisma': 3431, 'comedic': 3432, 'timing': 3433, 'debits': 3434, 'popcorn': 3435, 'borders': 3436, 'lewis': 3437, 'considerable': 3438, 'incendiary': 3439, 'unrestrained': 3440, 'sole': 3441, 'bright': 3442, 'superbad': 3443, 'interim': 3444, 'originality': 3445, 'freshness': 3446, 'offer': 3447, 'evidently': 3448, 'reflected': 3449, 'borrowed': 3450, 'filmiing': 3451, 'expansive': 3452, 'convey': 3453, 'broad': 3454, 'sweep': 3455, 'landscapes': 3456, 'trashy': 3457, 'sequel': 3458, 'precisely': 3459, 'proudly': 3460, 'classical': 3461, 'wb': 3462, 'toons': 3463, 'delivered': 3464, 'underrated': 3465, 'murky': 3466, 'related': 3467, 'sitcoms': 3468, 'oriented': 3469, 'teenagers': 3470, 'peculiarity': 3471, 'excessively': 3472, 'phony': 3473, 'contrived': 3474, 'sit': 3475, 'um': 3476, 'perabo': 3477, 'foolish': 3478, 'accents': 3479, 'hypocrisy': 3480, 'rubbish': 3481, 'pitch': 3482, 'omit': 3483, 'instant': 3484, 'catchy': 3485, 'credits': 3486, 'simmering': 3487, 'boiling': 3488, 'warts': 3489, 'poet': 3490, 'bohemian': 3491, 'wartime': 3492, 'bombardments': 3493, 'london': 3494, 'outward': 3495, 'tranquillity': 3496, 'welsh': 3497, 'coastal': 3498, 'retreat': 3499, 'borderlines': 3500, 'friendship': 3501, 'lust': 3502, 'concerns': 3503, 'jealousy': 3504, 'rivalry': 3505, 'cowardice': 3506, 'egotism': 3507, 'heroism': 3508, 'suggests': 3509, 'tensions': 3510, 'inappropriate': 3511, 'smiling': 3512, 'keira': 3513, 'knightley': 3514, 'prone': 3515, 'inventive': 3516, 'pointillistic': 3517, 'behold': 3518, 'continuously': 3519, 'bertolucci': 3520, 'sidelined': 3521, 'inexplicable': 3522, 'crew': 3523, 'regardless': 3524, 'custer': 3525, 'alongside': 3526, 'olivia': 3527, 'havilland': 3528, 'dads': 3529, 'grew': 3530, 'realised': 3531, 'jim': 3532, 'energetic': 3533, 'george': 3534, 'hosting': 3535, 'monotonous': 3536, 'shenanigans': 3537, 'spy': 3538, 'kidnapped': 3539, 'foreign': 3540, 'random': 3541, 'taxidermists': 3542, 'stewart': 3543, 'hero': 3544, 'rips': 3545, 'climax': 3546, 'embassy': 3547, 'brooding': 3548, 'menace': 3549, 'nevertheless': 3550, 'stable': 3551, 'sci': 3552, 'fi': 3553, 'producers': 3554, 'scot': 3555, 'vandiver': 3556, 'nonetheless': 3557, 'campy': 3558, 'scares': 3559, 'medical': 3560, 'terminology': 3561, 'iffy': 3562, 'insulin': 3563, 'dependant': 3564, 'diabetic': 3565, 'complexity': 3566, 'task': 3567, 'challenges': 3568, 'facing': 3569, 'attempted': 3570, 'truth': 3571, 'reconciliation': 3572, 'magnificent': 3573, 'woven': 3574, 'splendid': 3575, 'view': 3576, 'subtitles': 3577, 'aversion': 3578, 'therapy': 3579, 'jason': 3580, 'moved': 3581, 'tears': 3582, 'monolog': 3583, 'candle': 3584, 'sphere': 3585, 'helen': 3586, 'baxendale': 3587, 'credible': 3588, 'cheerfull': 3589, 'naughty': 3590, 'deadly': 3591, 'shakespears': 3592, 'lyrics': 3593, 'dr': 3594, 'seuss': 3595, 'brilliantly': 3596, 'animated': 3597, 'upa': 3598, 'finest': 3599, 'academy': 3600, 'award': 3601, 'integral': 3602, 'helping': 3603, 'bailey': 3604, 'eiko': 3605, 'ishioka': 3606, 'dracula': 3607, 'format': 3608, 'baaaaaad': 3609, 'collect': 3610, 'extant': 3611, 'austen': 3612, 'consolations': 3613, 'speaking': 3614, 'unbearably': 3615, 'kitchy': 3616, 'raw': 3617, 'sublimely': 3618, 'theatrical': 3619, 'terror': 3620, 'lie': 3621, 'escalating': 3622, 'monstrous': 3623, 'consequences': 3624, 'mesmerising': 3625, 'fumbling': 3626, 'hankies': 3627, 'faces': 3628, 'males': 3629, 'females': 3630, 'alike': 3631, 'julian': 3632, 'fellowes': 3633, 'triumphed': 3634, 'national': 3635, 'treasure': 3636, 'phrase': 3637, 'owed': 3638, 'kris': 3639, 'kristoffersen': 3640, 'marriage': 3641, 'errors': 3642, 'commented': 3643, 'cars': 3644, 'garage': 3645, 'facial': 3646, 'configuration': 3647, 'inspiration': 3648, 'overcome': 3649, 'rejection': 3650, 'punishment': 3651, 'park': 3652, 'southern': 3653, 'california': 3654, 'desert': 3655, 'patent': 3656, 'accessible': 3657, 'miserable': 3658, 'angela': 3659, 'bennett': 3660, 'expert': 3661, 'pretext': 3662, 'repeating': 3663, 'robotic': 3664, 'moves': 3665, 'delete': 3666, 'ass': 3667, 'uncalled': 3668, 'geek': 3669, 'bible': 3670, 'thumper': 3671, 'pulling': 3672, 'equivalent': 3673, 'dickens': 3674, 'carol': 3675, 'sensibility': 3676, 'success': 3677, 'depends': 3678, 'sydney': 3679, 'greenstreet': 3680, 'yardley': 3681, 'rpg': 3682, 'rpger': 3683, 'youtube': 3684, 'lassie': 3685, 'painfully': 3686, 'dreary': 3687, 'becomes': 3688, 'forgettable': 3689, 'shell': 3690, 'barking': 3691, 'transfers': 3692, 'relaxing': 3693, 'title': 3694, 'handles': 3695, 'dignity': 3696, 'shocking': 3697, 'memorized': 3698, 'fishnet': 3699, 'stockings': 3700, 'astonishingly': 3701, 'ham': 3702, 'fisted': 3703, 'irons': 3704, 'unconditional': 3705, 'ordeal': 3706, 'progresses': 3707, 'anguish': 3708, 'pans': 3709, 'reviewers': 3710, 'interview': 3711, 'vampire': 3712, 'lestat': 3713, 'stuart': 3714, 'townsend': 3715, 'cruise': 3716, 'aailiyah': 3717, 'akasha': 3718, 'entrance': 3719, 'mini': 3720, 'sensitivities': 3721, 'treatments': 3722, 'details': 3723, 'dysfunction': 3724, 'football': 3725, 'perplexing': 3726, 'skilled': 3727, 'meredith': 3728, 'worthy': 3729, 'syrupy': 3730, 'indulgent': 3731, 'nine': 3732, 'goremeister': 3733, 'lucio': 3734, 'thrillers': 3735, 'standout': 3736, 'unpleasant': 3737, 'technically': 3738, 'riz': 3739, 'ortolani': 3740, 'recurring': 3741, 'unaccompanied': 3742, 'vocal': 3743, 'distant': 3744, 'dustin': 3745, 'hoffman': 3746, 'involving': 3747, 'issue': 3748, 'tired': 3749, 'ps': 3750, 'jennifer': 3751, 'rubin': 3752, 'harris': 3753, 'changes': 3754, 'nervous': 3755, 'starlet': 3756, 'situations': 3757, 'coach': 3758, 'snow': 3759, 'exciting': 3760, 'uniqueness': 3761, 'foreigner': 3762, 'stranger': 3763, 'considers': 3764, 'ussr': 3765, 'scream': 3766, 'scare': 3767, 'indictment': 3768, 'justice': 3769, 'system': 3770, 'fundamental': 3771, 'legal': 3772, 'guilt': 3773, 'innocence': 3774, 'routine': 3775, 'constantine': 3776, 'intensity': 3777, 'motivations': 3778, 'inspiring': 3779, 'stinker': 3780, 'release': 3781, 'trek': 3782, 'v': 3783, 'frontier': 3784, 'includes': 3785, 'shatner': 3786, 'nimoy': 3787, 'washed': 3788, 'tacky': 3789, 'spock': 3790, 'rescue': 3791, 'kirk': 3792, 'jet': 3793, 'mountain': 3794, 'humor': 3795, 'dose': 3796, 'involves': 3797, 'vulcan': 3798, 'stealing': 3799, 'enterprise': 3800, 'uhura': 3801, 'distract': 3802, 'male': 3803, 'guards': 3804, 'subjects': 3805, 'jay': 3806, 'adams': 3807, 'unfortunate': 3808, 'subject': 3809, 'evokes': 3810, 'grainy': 3811, 'enhanced': 3812, 'surprises': 3813, 'achille': 3814, 'philippa': 3815, 'sing': 3816, 'giovanni': 3817, 'describes': 3818, 'layers': 3819, 'jutland': 3820, 'instruments': 3821, 'general': 3822, 'loewenhielm': 3823, 'partaking': 3824, 'cailles': 3825, 'en': 3826, 'sarcophage': 3827, 'savor': 3828, 'impression': 3829, 'generates': 3830, 'austere': 3831, 'backdrop': 3832, 'wanting': 3833, 'notch': 3834, 'fleshed': 3835, 'grimes': 3836, 'blake': 3837, 'scripted': 3838, 'deadpan': 3839, 'angus': 3840, 'scrimm': 3841, 'gently': 3842, 'menacing': 3843, 'anatomist': 3844, 'entertained': 3845, 'phantasm': 3846, 'collective': 3847, 'concerning': 3848, 'kudos': 3849, 'juano': 3850, 'hernandez': 3851, 'supporting': 3852, 'murdering': 3853, 'trumbull': 3854, 'evinced': 3855, 'faithful': 3856, 'joyce': 3857, 'acclaimed': 3858, 'novella': 3859, 'feelings': 3860, 'gabriel': 3861, 'intangibles': 3862, 'leap': 3863, 'viewer': 3864, 'grasp': 3865, 'wondered': 3866, 'shortlist': 3867, 'emperor': 3868, 'surely': 3869, 'coherent': 3870, 'force': 3871, 'obliged': 3872, 'creative': 3873, 'subplots': 3874, 'native': 3875, 'brainsucking': 3876, 'telly': 3877, 'savalas': 3878, 'boyle': 3879, 'sheer': 3880, 'tedium': 3881, 'melodrama': 3882, 'sinking': 3883, 'decisions': 3884, 'establish': 3885, 'follows': 3886, 'band': 3887, 'mansonites': 3888, 'reporter': 3889, 'anniversary': 3890, 'killings': 3891, 'indication': 3892, 'meld': 3893, 'volatile': 3894, 'temperaments': 3895, 'seamless': 3896, 'union': 3897, 'creativity': 3898, 'powerhouse': 3899, 'fascination': 3900, 'celebrity': 3901, 'interpretations': 3902, 'fame': 3903, 'forgotten': 3904, 'kevin': 3905, 'spacey': 3906, 'verbal': 3907, 'tsunami': 3908, 'buddy': 3909, 'ackerman': 3910, 'scripting': 3911, 'unmatched': 3912, 'ages': 3913, 'younger': 3914, 'galley': 3915, 'pm': 3916, 'forwarded': 3917, 'horrendously': 3918, 'captain': 3919, 'howdy': 3920, 'semi': 3921, 'truck': 3922, 'linda': 3923, 'cardellini': 3924, 'poised': 3925, 'dee': 3926, 'snider': 3927, 'villains': 3928, 'sophisticated': 3929, 'miserably': 3930, 'unoriginal': 3931, 'cinematic': 3932, 'captured': 3933, 'celluloid': 3934, 'supernatural': 3935, 'zombie': 3936, 'thread': 3937, 'leni': 3938, 'parker': 3939, 'anita': 3940, 'laselva': 3941, 'taelons': 3942, 'idealogical': 3943, 'centers': 3944, 'puppet': 3945, 'flicks': 3946, 'explains': 3947, 'sinister': 3948, 'origins': 3949, 'insomniacs': 3950, 'heartwarming': 3951, 'chasing': 3952, 'nurse': 3953, 'unpredictability': 3954, 'labute': 3955, 'brutal': 3956, 'violence': 3957, 'seperate': 3958, 'secondary': 3959, 'incomprehensible': 3960, 'relation': 3961, 'primary': 3962, 'mystifying': 3963, 'shelves': 3964, 'warn': 3965, 'dumbest': 3966, 'hbo': 3967, 'cox': 3968, 'win': 3969, 'agree': 3970, 'jessica': 3971, 'elaborately': 3972, 'aesthetically': 3973, 'sculpture': 3974, 'soap': 3975, 'operas': 3976, 'pray': 3977, 'charismatic': 3978, 'paolo': 3979, 'sorrentino': 3980, 'tony': 3981, 'unforgettable': 3982, 'di': 3983, 'girolamo': 3984, 'vision': 3985, 'debut': 3986, 'charlie': 3987, 'kathy': 3988, 'bates': 3989, 'desperation': 3990, 'escapism': 3991, 'variation': 3992, 'fields': 3993, 'condescends': 3994, 'arts': 3995, 'daughters': 3996, 'paint': 3997, 'photograph': 3998, 'poignant': 3999, 'alert': 4000, 'decipher': 4001, 'meanings': 4002, 'matrix': 4003, 'sequels': 4004, 'mindblowing': 4005, 'dream': 4006, 'rickman': 4007, 'stowe': 4008, 'hilt': 4009, 'childrens': 4010, 'subversive': 4011, 'tract': 4012, 'gloriously': 4013, 'accurate': 4014, 'raver': 4015, 'idyllic': 4016, 'downs': 4017, 'groove': 4018, 'antithesis': 4019, 'traffic': 4020, 'crowe': 4021, 'picked': 4022, 'government': 4023, 'scientist': 4024, 'argued': 4025, 'humanity': 4026, 'dwight': 4027, 'schultz': 4028, 'sincere': 4029, 'critical': 4030, 'gorman': 4031, 'bechard': 4032, 'homework': 4033, 'appropriate': 4034, 'captures': 4035, 'essence': 4036, 'track': 4037, 'commands': 4038, 'contributing': 4039, 'threshold': 4040, 'hayao': 4041, 'eighth': 4042, 'ghibili': 4043, 'gake': 4044, 'ue': 4045, 'cliff': 4046, 'dominated': 4047, 'cgi': 4048, 'comforting': 4049, 'relying': 4050, 'enchanting': 4051, 'remarkable': 4052, 'drawings': 4053, 'colorful': 4054, 'fanciful': 4055, 'drift': 4056, 'surf': 4057, 'impact': 4058, 'armageddon': 4059, 'choked': 4060, 'vessel': 4061, 'taken': 4062, 'mighty': 4063, 'frost': 4064, 'bonuses': 4065, 'fest': 4066, 'spoiled': 4067, 'brat': 4068, 'babysitting': 4069, 'sundays': 4070, 'march': 4071, 'judith': 4072, 'cutie': 4073, 'confidence': 4074, 'riot': 4075, 'hugo': 4076, 'weaving': 4077, 'gay': 4078, 'estate': 4079, 'salesman': 4080, 'clients': 4081, 'houses': 4082, 'trysts': 4083, 'flaming': 4084, 'darren': 4085, 'hollander': 4086, 'flowed': 4087, 'hoot': 4088, 'n': 4089, 'genre': 4090, 'jessice': 4091, 'clothes': 4092, 'virtue': 4093, 'regrettable': 4094, 'exceptionally': 4095, 'bank': 4096, 'holiday': 4097, 'rick': 4098, 'honeslty': 4099, 'rubber': 4100, 'ahead': 4101, 'warmer': 4102, 'wayyy': 4103, 'cape': 4104, 'cod': 4105, 'ravoli': 4106, 'cranberry': 4107, 'disgusted': 4108, 'shocked': 4109, 'indicate': 4110, 'cash': 4111, 'burrittos': 4112, 'interior': 4113, 'velvet': 4114, 'cake': 4115, 'ohhh': 4116, 'hole': 4117, 'luke': 4118, 'sever': 4119, 'combos': 4120, 'blow': 4121, 'accident': 4122, 'grab': 4123, 'pub': 4124, 'hiro': 4125, 'melted': 4126, 'styrofoam': 4127, 'pucks': 4128, 'disgust': 4129, 'register': 4130, 'rib': 4131, 'section': 4132, 'firehouse': 4133, 'pink': 4134, 'mein': 4135, 'strings': 4136, 'banana': 4137, 'petrified': 4138, 'receives': 4139, 'cocktails': 4140, 'handmade': 4141, 'military': 4142, 'dos': 4143, 'gringos': 4144, 'tastings': 4145, 'jeff': 4146, 'milkshake': 4147, 'chocolate': 4148, 'milk': 4149, 'excalibur': 4150, 'common': 4151, 'cheated': 4152, 'experiencing': 4153, 'parties': 4154, 'smelled': 4155, 'pan': 4156, 'cakes': 4157, 'raving': 4158, 'tailored': 4159, 'palate': 4160, 'ratio': 4161, 'tenders': 4162, 'unsatisfying': 4163, 'omelets': 4164, 'sexy': 4165, 'outrageously': 4166, 'flirting': 4167, 'hottest': 4168, 'rock': 4169, 'casino': 4170, 'forward': 4171, 'bone': 4172, 'bloddy': 4173, 'mussels': 4174, 'reduction': 4175, 'buffets': 4176, 'tigerlilly': 4177, 'personable': 4178, 'sooooo': 4179, 'yama': 4180, 'arriving': 4181, 'actual': 4182, 'blandest': 4183, 'cuisine': 4184, 'worries': 4185, 'loving': 4186, 'venture': 4187, 'host': 4188, 'bitches': 4189, 'liking': 4190, 'reviewing': 4191, 'venturing': 4192, 'penne': 4193, 'vodka': 4194, 'meatloaf': 4195, 'crispy': 4196, 'lox': 4197, 'capers': 4198, 'meet': 4199, 'weekend': 4200, 'suggestions': 4201, 'bamboo': 4202, 'shoots': 4203, 'blanket': 4204, 'moz': 4205, 'subpar': 4206, 'ignore': 4207, 'fiancé': 4208, 'middle': 4209, 'mandalay': 4210, 'forty': 4211, 'vain': 4212, 'crostini': 4213, 'nigiri': 4214, 'flavored': 4215, 'voodoo': 4216, 'gluten': 4217, 'leftover': 4218, 'relocated': 4219, 'diverse': 4220, 'hella': 4221, 'salty': 4222, 'spinach': 4223, 'avocado': 4224, 'ingredients': 4225, 'handed': 4226, 'listed': 4227, 'waitresses': 4228, 'lordy': 4229, 'khao': 4230, 'soi': 4231, 'accommodations': 4232, 'inspired': 4233, 'desired': 4234, 'maintaining': 4235, 'coziness': 4236, 'weekly': 4237, 'haunt': 4238, 'asking': 4239, 'verge': 4240, 'dressed': 4241, 'rudely': 4242, 'hits': 4243, 'quantity': 4244, 'lemon': 4245, 'raspberry': 4246, 'cocktail': 4247, 'imagined': 4248, 'crepe': 4249, 'bits': 4250, 'missing': 4251, 'joey': 4252, 'voted': 4253, 'magazine': 4254, 'fridays': 4255, 'blows': 4256, 'exceeding': 4257, 'dreamed': 4258, 'serivce': 4259, 'inviting': 4260, 'stepped': 4261, 'foot': 4262, 'mixed': 4263, 'mushrooms': 4264, 'yukon': 4265, 'beateous': 4266, 'climbing': 4267, 'tartar': 4268, 'jamaican': 4269, 'mojitos': 4270, 'rich': 4271, 'accordingly': 4272, 'rinse': 4273, 'nude': 4274, 'bussell': 4275, 'sprouts': 4276, 'risotto': 4277, 'bodes': 4278, 'wrapped': 4279, 'dates': 4280, 'otto': 4281, 'welcome': 4282, 'mains': 4283, 'uninspired': 4284, 'drunk': 4285, 'patty': 4286, 'uploaded': 4287, 'sporting': 4288, 'walls': 4289, 'descriptions': 4290, 'eel': 4291, 'sauces': 4292, 'hardest': 4293, 'rolled': 4294, 'providing': 4295, 'flavourful': 4296, 'freezing': 4297, 'ayce': 4298, 'mood': 4299, 'based': 4300, 'gratitude': 4301, 'privileged': 4302, 'silently': 4303, 'peanut': 4304, 'godfathers': 4305, 'recall': 4306, 'visited': 4307, 'proclaimed': 4308, 'wildly': 4309, 'veggitarian': 4310, 'platter': 4311, 'madison': 4312, 'ironman': 4313, 'chefs': 4314, 'dedicated': 4315, 'spots': 4316, 'jenni': 4317, 'goat': 4318, 'skimp': 4319, 'mac': 4320, 'burned': 4321, 'saganaki': 4322, 'disagree': 4323, 'fellow': 4324, 'yelpers': 4325, 'noodles': 4326, 'chip': 4327, 'count': 4328, 'greedy': 4329, 'corporation': 4330, 'dime': 4331, 'outdoor': 4332, 'muffin': 4333, 'untoasted': 4334, 'bus': 4335, 'figured': 4336, 'publicly': 4337, 'loudly': 4338, 'bbq': 4339, 'lighter': 4340, 'downside': 4341, 'shawarrrrrrma': 4342, 'eyed': 4343, 'peas': 4344, 'unreal': 4345, 'vinaigrette': 4346, 'honor': 4347, 'hut': 4348, 'coupons': 4349, 'unbelievably': 4350, 'covers': 4351, 'replenished': 4352, 'yucky': 4353, 'delicioso': 4354, 'spaghetti': 4355, 'tucson': 4356, 'chipotle': 4357, 'succulent': 4358, 'baseball': 4359, 'app': 4360, 'genuinely': 4361, 'enthusiastic': 4362, 'sadly': 4363, 'gordon': 4364, 'ramsey': 4365, 'shall': 4366, 'offered': 4367, 'handling': 4368, 'rowdy': 4369, 'despicable': 4370, 'craving': 4371, 'ache': 4372, 'elegantly': 4373, 'customize': 4374, 'bean': 4375, 'outta': 4376, 'inconsiderate': 4377, 'hi': 4378, 'dinners': 4379, 'outshining': 4380, 'halibut': 4381, 'starving': 4382, 'def': 4383, 'ethic': 4384, 'andddd': 4385, 'located': 4386, 'crystals': 4387, 'shopping': 4388, 'aria': 4389, 'summarize': 4390, 'nay': 4391, 'transcendant': 4392, 'pneumatic': 4393, 'condiment': 4394, 'dispenser': 4395, 'ians': 4396, 'kiddos': 4397, 'bouchon': 4398, 'accountant': 4399, 'screwed': 4400, 'reminds': 4401, 'shops': 4402, 'san': 4403, 'francisco': 4404, 'buldogis': 4405, 'gourmet': 4406, 'frustrated': 4407, 'petty': 4408, 'iced': 4409, 'hungry': 4410, 'sore': 4411, 'companions': 4412, 'ground': 4413, 'smeared': 4414, 'bird': 4415, 'poop': 4416, 'furthermore': 4417, 'operation': 4418, 'topic': 4419, 'jerk': 4420, 'strike': 4421, 'rushed': 4422, 'across': 4423, 'appetizer': 4424, 'absolutley': 4425, 'gristle': 4426, 'steiners': 4427, 'fs': 4428, 'pears': 4429, 'almonds': 4430, 'spicier': 4431, 'prefer': 4432, 'ribeye': 4433, 'mesquite': 4434, 'gooodd': 4435, 'connoisseur': 4436, 'mouthful': 4437, 'relaxed': 4438, 'venue': 4439, 'couples': 4440, 'groups': 4441, 'nargile': 4442, 'tater': 4443, 'southwest': 4444, 'vanilla': 4445, 'smooth': 4446, 'profiterole': 4447, 'choux': 4448, 'pastry': 4449, 'az': 4450, 'carly': 4451, 'ventilation': 4452, 'upgrading': 4453, 'letdown': 4454, 'camelback': 4455, 'shop': 4456, 'cartel': 4457, 'trimmed': 4458, 'claimed': 4459, 'jewel': 4460, 'las': 4461, 'boiled': 4462, 'toro': 4463, 'tartare': 4464, 'cavier': 4465, 'thinly': 4466, 'wagyu': 4467, 'truffle': 4468, 'attached': 4469, 'decide': 4470, 'humiliated': 4471, 'worker': 4472, 'name': 4473, 'callings': 4474, 'daily': 4475, 'specials': 4476, 'tragedy': 4477, 'pancake': 4478, 'crawfish': 4479, 'pumpkin': 4480, 'pecan': 4481, 'fluffy': 4482, 'airline': 4483, 'noca': 4484, 'gyro': 4485, 'lettuce': 4486, 'pastas': 4487, 'cheesecurds': 4488, 'finger': 4489, 'beauty': 4490, 'greasy': 4491, 'unhealthy': 4492, 'similarly': 4493, 'apology': 4494, 'tiramisu': 4495, 'cannoli': 4496, 'sun': 4497, 'meats': 4498, 'frenchman': 4499, 'martini': 4500, 'gc': 4501, 'thirty': 4502, 'vacant': 4503, 'yellowtail': 4504, 'carpaccio': 4505, 'strangers': 4506, 'hello': 4507, 'donut': 4508, 'saving': 4509, 'disgraceful': 4510, 'suffers': 4511, 'greens': 4512, 'hankering': 4513, 'theft': 4514, 'eew': 4515, 'overhaul': 4516, 'witnessed': 4517, 'regularly': 4518, 'swung': 4519, 'efficient': 4520, 'sucker': 4521, 'olives': 4522, 'perpared': 4523, 'giant': 4524, 'slices': 4525, 'dusted': 4526, 'powdered': 4527, 'sugar': 4528, 'fo': 4529, 'accomodate': 4530, 'crumby': 4531, 'pale': 4532, 'croutons': 4533, 'trips': 4534, 'crema': 4535, 'café': 4536, 'expanded': 4537, 'philadelphia': 4538, 'north': 4539, 'scottsdale': 4540, 'soooooo': 4541, 'freaking': 4542, 'papers': 4543, 'reheated': 4544, 'wedges': 4545, 'absolute': 4546, 'bloody': 4547, 'businesses': 4548, 'yellow': 4549, 'saffron': 4550, 'seasoning': 4551, 'grandmother': 4552, 'ignored': 4553, 'hostess': 4554, 'boys': 4555, 'shirt': 4556, 'drastically': 4557, 'caesar': 4558, 'madhouse': 4559, 'proven': 4560, 'moods': 4561, 'macarons': 4562, 'insanely': 4563, 'informative': 4564, 'plater': 4565, 'relax': 4566, 'screams': 4567, 'somethat': 4568, 'duo': 4569, 'violinists': 4570, 'requested': 4571, 'baklava': 4572, 'falafels': 4573, 'baba': 4574, 'ganoush': 4575, 'mgm': 4576, 'courteous': 4577, 'eclectic': 4578, 'onion': 4579, 'rings': 4580, 'nobu': 4581, 'google': 4582, 'smashburger': 4583, 'lover': 4584, 'plantains': 4585, 'spends': 4586, 'panna': 4587, 'cotta': 4588, 'flavors': 4589, 'slaw': 4590, 'drenched': 4591, 'piano': 4592, 'rge': 4593, 'fillet': 4594, 'relleno': 4595, 'sergeant': 4596, 'auju': 4597, 'hawaiian': 4598, 'breeze': 4599, 'mango': 4600, 'magic': 4601, 'pineapple': 4602, 'smoothies': 4603, 'mortified': 4604, 'anyways': 4605, 'dripping': 4606, 'hospitality': 4607, 'paradise': 4608, 'refrained': 4609, 'recommending': 4610, 'cibo': 4611, 'mouths': 4612, 'bellies': 4613, 'dough': 4614, 'elk': 4615, 'hooked': 4616, 'classics': 4617, 'sorely': 4618, 'quaint': 4619, 'deliciously': 4620, 'dylan': 4621, 'tummy': 4622, 'gratuity': 4623, 'larger': 4624, 'apple': 4625, 'juice': 4626, 'han': 4627, 'nan': 4628, 'edinburgh': 4629, 'revisiting': 4630, 'naan': 4631, 'pine': 4632, 'touched': 4633, 'airport': 4634, 'speedy': 4635, 'calligraphy': 4636, 'stood': 4637, 'guest': 4638, 'extensive': 4639, 'inflate': 4640, 'smaller': 4641, 'grow': 4642, 'rapidly': 4643, 'lil': 4644, 'fuzzy': 4645, 'wontons': 4646, 'spice': 4647, 'arepas': 4648, 'jalapeno': 4649, 'shoe': 4650, 'block': 4651, 'affordable': 4652, 'soups': 4653, 'sunday': 4654, 'hunan': 4655, 'flair': 4656, 'bartenders': 4657, 'nutshell': 4658, 'restaraunt': 4659, 'sewer': 4660, 'veal': 4661, 'satifying': 4662, 'join': 4663, 'email': 4664, 'colder': 4665, 'describing': 4666, 'tepid': 4667, 'chains': 4668, 'crowds': 4669, 'juries': 4670, 'lawyers': 4671, 'arrives': 4672, 'paying': 4673, 'wienerschnitzel': 4674, 'maine': 4675, 'roll': 4676, 'law': 4677, 'hereas': 4678, 'event': 4679, 'held': 4680, 'pissd': 4681, 'surprise': 4682, 'hopes': 4683, 'bruschetta': 4684, 'devine': 4685, 'employee': 4686, 'lastly': 4687, 'mozzarella': 4688, 'negligent': 4689, 'unwelcome': 4690, 'packed': 4691, 'seasonal': 4692, 'fruit': 4693, 'peach': 4694, 'officially': 4695, 'containers': 4696, 'opposed': 4697, 'cramming': 4698, 'takeout': 4699, 'boxes': 4700, 'crêpe': 4701, 'delicate': 4702, 'kabuki': 4703, 'maria': 4704, 'article': 4705, 'spices': 4706, 'fucking': 4707, 'caballero': 4708, 'oysters': 4709, 'qualified': 4710, 'foods': 4711, 'tolerance': 4712, 'polite': 4713, 'wash': 4714, 'biscuit': 4715, 'coconut': 4716, 'fella': 4717, 'huevos': 4718, 'rancheros': 4719, 'wines': 4720, 'pricey': 4721, 'prepare': 4722, 'bare': 4723, 'oil': 4724, 'pleasure': 4725, 'plethora': 4726, 'sandwiches': 4727, 'seal': 4728, 'approval': 4729, 'college': 4730, 'cooking': 4731, 'besides': 4732, 'costco': 4733, 'highlighted': 4734, 'grocery': 4735, 'dude': 4736, 'doughy': 4737, 'inch': 4738, 'albondigas': 4739, 'tomato': 4740, 'meatballs': 4741, 'occasions': 4742, 'medium': 4743, 'bloodiest': 4744, 'anymore': 4745, 'chai': 4746, 'latte': 4747, 'allergy': 4748, 'warnings': 4749, 'clue': 4750, 'contain': 4751, 'peanuts': 4752, 'mediterranean': 4753, 'beers': 4754, 'highlight': 4755, 'concern': 4756, 'mellow': 4757, 'mushroom': 4758, 'strawberry': 4759, 'unprofessional': 4760, 'loyal': 4761, 'patron': 4762, 'occasional': 4763, 'pats': 4764, 'bellagio': 4765, 'anticipated': 4766, 'sals': 4767, 'fav': 4768, 'unexperienced': 4769, 'employees': 4770, 'chickens': 4771, 'steakhouse': 4772, 'concept': 4773, 'guacamole': 4774, 'puréed': 4775, 'postinos': 4776, 'poisoning': 4777, 'batch': 4778, 'yay': 4779, 'eve': 4780, 'caring': 4781, 'teamwork': 4782, 'degree': 4783, 'ri': 4784, 'calamari': 4785, 'fondue': 4786, 'denny': 4787, 'downright': 4788, 'waaaaaayyyyyyyyyy': 4789, 'sangria': 4790, 'glass': 4791, 'brisket': 4792, 'trippy': 4793, 'hurry': 4794, 'reservation': 4795, 'stretch': 4796, 'cashew': 4797, 'chipolte': 4798, 'ranch': 4799, 'dipping': 4800, 'sause': 4801, 'watered': 4802, 'workers': 4803, 'douchey': 4804, 'garden': 4805, 'con': 4806, 'spotty': 4807, 'ensued': 4808, 'apologize': 4809, 'binge': 4810, 'drinking': 4811, 'carbs': 4812, 'insults': 4813, 'profound': 4814, 'deuchebaggery': 4815, 'solidify': 4816, 'combo': 4817, 'ala': 4818, 'cart': 4819, 'blame': 4820, 'rave': 4821, 'del': 4822, 'hamburger': 4823, 'services': 4824, 'fireball': 4825, 'disapppointment': 4826, 'correction': 4827, 'heimer': 4828, 'brownish': 4829, 'ha': 4830, 'flop': 4831, 'bigger': 4832, 'sub': 4833, 'unwrapped': 4834, 'mile': 4835, 'brushfire': 4836, 'mirage': 4837, 'refried': 4838, 'dried': 4839, 'crusty': 4840, 'caterpillar': 4841, 'appetite': 4842, 'instantly': 4843, 'ninja': 4844, 'poured': 4845, 'wound': 4846, 'drawing': 4847}\n"
     ]
    }
   ],
   "source": [
    "#Measure vocabulary size \n",
    "VocabCount= Tokenizer()\n",
    "VocabCount.fit_on_texts(Reviews['Review'])\n",
    "\n",
    "print('vocab count: ', len(VocabCount.word_index) + 1)\n",
    "print(VocabCount.word_index)"
   ]
  },
  {
   "cell_type": "code",
   "execution_count": 12,
   "id": "aab501ec",
   "metadata": {},
   "outputs": [
    {
     "data": {
      "text/plain": [
       "8"
      ]
     },
     "execution_count": 12,
     "metadata": {},
     "output_type": "execute_result"
    }
   ],
   "source": [
    "#Word embedding length\n",
    "wordcount = len(VocabCount.word_index)+ 1\n",
    "max_sequence_embedding = int(round(np.sqrt(np.sqrt(wordcount)),0))\n",
    "max_sequence_embedding"
   ]
  },
  {
   "cell_type": "code",
   "execution_count": 13,
   "id": "0fa49086",
   "metadata": {},
   "outputs": [
    {
     "data": {
      "text/plain": [
       "665"
      ]
     },
     "execution_count": 13,
     "metadata": {},
     "output_type": "execute_result"
    }
   ],
   "source": [
    "#Maximum Sequence length\n",
    "reviewlen = []\n",
    "for charlen in Reviews['Review']:\n",
    "    reviewlen.append(len(charlen.split(' ')))\n",
    "\n",
    "commentary_max = np.max(reviewlen)\n",
    "commentary_min = np.min(reviewlen)\n",
    "commentary_median = np.median(reviewlen)   \n",
    "\n",
    "commentary_max"
   ]
  },
  {
   "cell_type": "code",
   "execution_count": 14,
   "id": "c3e84ff2",
   "metadata": {},
   "outputs": [
    {
     "data": {
      "text/html": [
       "<div>\n",
       "<style scoped>\n",
       "    .dataframe tbody tr th:only-of-type {\n",
       "        vertical-align: middle;\n",
       "    }\n",
       "\n",
       "    .dataframe tbody tr th {\n",
       "        vertical-align: top;\n",
       "    }\n",
       "\n",
       "    .dataframe thead th {\n",
       "        text-align: right;\n",
       "    }\n",
       "</style>\n",
       "<table border=\"1\" class=\"dataframe\">\n",
       "  <thead>\n",
       "    <tr style=\"text-align: right;\">\n",
       "      <th></th>\n",
       "      <th>Review</th>\n",
       "      <th>Sentiment</th>\n",
       "    </tr>\n",
       "  </thead>\n",
       "  <tbody>\n",
       "    <tr>\n",
       "      <th>0</th>\n",
       "      <td>way plug us unless go converter</td>\n",
       "      <td>0</td>\n",
       "    </tr>\n",
       "    <tr>\n",
       "      <th>1</th>\n",
       "      <td>good case excellent value</td>\n",
       "      <td>1</td>\n",
       "    </tr>\n",
       "    <tr>\n",
       "      <th>2</th>\n",
       "      <td>great jawbone</td>\n",
       "      <td>1</td>\n",
       "    </tr>\n",
       "    <tr>\n",
       "      <th>3</th>\n",
       "      <td>tied charger conversations lasting problems</td>\n",
       "      <td>0</td>\n",
       "    </tr>\n",
       "    <tr>\n",
       "      <th>4</th>\n",
       "      <td>mic great</td>\n",
       "      <td>1</td>\n",
       "    </tr>\n",
       "    <tr>\n",
       "      <th>...</th>\n",
       "      <td>...</td>\n",
       "      <td>...</td>\n",
       "    </tr>\n",
       "    <tr>\n",
       "      <th>2743</th>\n",
       "      <td>think food flavor texture lacking</td>\n",
       "      <td>0</td>\n",
       "    </tr>\n",
       "    <tr>\n",
       "      <th>2744</th>\n",
       "      <td>appetite instantly gone</td>\n",
       "      <td>0</td>\n",
       "    </tr>\n",
       "    <tr>\n",
       "      <th>2745</th>\n",
       "      <td>overall impressed would go back</td>\n",
       "      <td>0</td>\n",
       "    </tr>\n",
       "    <tr>\n",
       "      <th>2746</th>\n",
       "      <td>whole experience underwhelming think go ninja ...</td>\n",
       "      <td>0</td>\n",
       "    </tr>\n",
       "    <tr>\n",
       "      <th>2747</th>\n",
       "      <td>wasted enough life poured salt wound drawing t...</td>\n",
       "      <td>0</td>\n",
       "    </tr>\n",
       "  </tbody>\n",
       "</table>\n",
       "<p>2743 rows × 2 columns</p>\n",
       "</div>"
      ],
      "text/plain": [
       "                                                 Review  Sentiment\n",
       "0                       way plug us unless go converter          0\n",
       "1                             good case excellent value          1\n",
       "2                                         great jawbone          1\n",
       "3           tied charger conversations lasting problems          0\n",
       "4                                             mic great          1\n",
       "...                                                 ...        ...\n",
       "2743                  think food flavor texture lacking          0\n",
       "2744                            appetite instantly gone          0\n",
       "2745                    overall impressed would go back          0\n",
       "2746  whole experience underwhelming think go ninja ...          0\n",
       "2747  wasted enough life poured salt wound drawing t...          0\n",
       "\n",
       "[2743 rows x 2 columns]"
      ]
     },
     "execution_count": 14,
     "metadata": {},
     "output_type": "execute_result"
    }
   ],
   "source": [
    "Reviews"
   ]
  },
  {
   "cell_type": "code",
   "execution_count": 15,
   "id": "9f1f9a3c",
   "metadata": {},
   "outputs": [],
   "source": [
    "#Sequences\n",
    "sequences = VocabCount.texts_to_sequences(Reviews['Review'])\n",
    "Reviews['Sequences'] = sequences\n",
    "\n",
    "Reviews['Padded'] = pad_sequences(Reviews.Sequences, padding = 'post').tolist()\n"
   ]
  },
  {
   "cell_type": "code",
   "execution_count": 16,
   "id": "326b3097",
   "metadata": {},
   "outputs": [],
   "source": [
    "Reviews.to_csv('Reviews2.csv')"
   ]
  },
  {
   "cell_type": "code",
   "execution_count": 17,
   "id": "56cded88",
   "metadata": {},
   "outputs": [],
   "source": [
    "#Split dataset\n",
    "X = Reviews['Padded'].to_list()\n",
    "X = np.array(X)\n",
    "\n",
    "y = Reviews['Sentiment'].to_list()\n",
    "y = np.array(y)\n",
    "\n",
    "X_train, X_test, y_train, y_test = train_test_split(X,y, random_state = 40, test_size = .3, stratify = y )\n",
    "X_train, X_validation, y_train, y_validation = train_test_split(X_train, y_train, random_state = 40, test_size=.25, stratify = y_train)\n",
    "\n",
    "#print(X_train.shape,X_test.shape,X_validation.shape)"
   ]
  },
  {
   "cell_type": "code",
   "execution_count": 18,
   "id": "7cf77056",
   "metadata": {},
   "outputs": [],
   "source": [
    "#Provide a copy of dataset\n",
    "\n",
    "X_traindata = pd.DataFrame(X_train)\n",
    "X_traindata.to_csv('D213-Xtrain.csv')\n",
    "X_testdata = pd.DataFrame(X_test)\n",
    "X_testdata.to_csv('D213-Xtest.csv')\n",
    "y_traindata = pd.DataFrame(y_train)\n",
    "y_traindata.to_csv('D213-ytrain.csv')\n",
    "y_testdata = pd.DataFrame(y_test)\n",
    "y_testdata.to_csv('D213-ytest.csv')\n"
   ]
  },
  {
   "cell_type": "code",
   "execution_count": 19,
   "id": "acc2f4d1",
   "metadata": {},
   "outputs": [
    {
     "name": "stdout",
     "output_type": "stream",
     "text": [
      "Model: \"sequential\"\n",
      "_________________________________________________________________\n",
      " Layer (type)                Output Shape              Param #   \n",
      "=================================================================\n",
      " embedding (Embedding)       (None, 1, 8)              38784     \n",
      "                                                                 \n",
      " global_average_pooling1d (G  (None, 8)                0         \n",
      " lobalAveragePooling1D)                                          \n",
      "                                                                 \n",
      " dense (Dense)               (None, 100)               900       \n",
      "                                                                 \n",
      " dense_1 (Dense)             (None, 75)                7575      \n",
      "                                                                 \n",
      " dense_2 (Dense)             (None, 2)                 152       \n",
      "                                                                 \n",
      " flatten (Flatten)           (None, 2)                 0         \n",
      "                                                                 \n",
      "=================================================================\n",
      "Total params: 47,411\n",
      "Trainable params: 47,411\n",
      "Non-trainable params: 0\n",
      "_________________________________________________________________\n",
      "Epoch 1/4\n",
      "WARNING:tensorflow:Model was constructed with shape (None, 1) for input KerasTensor(type_spec=TensorSpec(shape=(None, 1), dtype=tf.float32, name='embedding_input'), name='embedding_input', description=\"created by layer 'embedding_input'\"), but it was called on an input with incompatible shape (30, 665).\n",
      "WARNING:tensorflow:Model was constructed with shape (None, 1) for input KerasTensor(type_spec=TensorSpec(shape=(None, 1), dtype=tf.float32, name='embedding_input'), name='embedding_input', description=\"created by layer 'embedding_input'\"), but it was called on an input with incompatible shape (30, 665).\n",
      "45/48 [===========================>..] - ETA: 0s - loss: 0.6934 - accuracy: 0.5193WARNING:tensorflow:Model was constructed with shape (None, 1) for input KerasTensor(type_spec=TensorSpec(shape=(None, 1), dtype=tf.float32, name='embedding_input'), name='embedding_input', description=\"created by layer 'embedding_input'\"), but it was called on an input with incompatible shape (30, 665).\n",
      "48/48 [==============================] - 2s 14ms/step - loss: 0.6934 - accuracy: 0.5146 - val_loss: 0.6932 - val_accuracy: 0.4958\n",
      "Epoch 2/4\n",
      "48/48 [==============================] - 0s 7ms/step - loss: 0.6933 - accuracy: 0.5146 - val_loss: 0.6931 - val_accuracy: 0.5042\n",
      "Epoch 3/4\n",
      "48/48 [==============================] - 0s 7ms/step - loss: 0.6933 - accuracy: 0.5097 - val_loss: 0.6931 - val_accuracy: 0.5042\n",
      "Epoch 4/4\n",
      "48/48 [==============================] - 0s 7ms/step - loss: 0.6932 - accuracy: 0.5069 - val_loss: 0.6931 - val_accuracy: 0.4958\n"
     ]
    }
   ],
   "source": [
    "### Create Keras model\n",
    "from keras.layers import Dense\n",
    "from keras.models import Sequential\n",
    "from keras.callbacks import EarlyStopping\n",
    "from keras.layers import Dense, Activation, Flatten\n",
    "\n",
    "num_epochs = 4\n",
    "early_stopping_monitor = EarlyStopping(patience=2)\n",
    "\n",
    "model = tf.keras.Sequential([\n",
    "    tf.keras.layers.Embedding(wordcount,max_sequence_embedding, input_length =  commentary_max, input_shape = (1,)),\n",
    "    tf.keras.layers.GlobalAveragePooling1D(),\n",
    "    tf.keras.layers.Dense(100, activation = 'relu'),\n",
    "    tf.keras.layers.Dense(75, activation = 'relu'),\n",
    "    tf.keras.layers.Dense(2, activation = 'sigmoid')\n",
    "])\n",
    "model.add(Flatten())\n",
    "\n",
    "model.compile(loss = 'binary_crossentropy', optimizer = 'adam', metrics = ['accuracy'])\n",
    "\n",
    "model.summary()\n",
    "\n",
    "history = model.fit(X_train,y_train, batch_size = 30, epochs = num_epochs, callbacks = early_stopping_monitor, verbose = True,validation_data = (X_validation,y_validation), shuffle = True)"
   ]
  },
  {
   "cell_type": "code",
   "execution_count": 20,
   "id": "81de0347",
   "metadata": {},
   "outputs": [
    {
     "name": "stdout",
     "output_type": "stream",
     "text": [
      "WARNING:tensorflow:Model was constructed with shape (None, 1) for input KerasTensor(type_spec=TensorSpec(shape=(None, 1), dtype=tf.float32, name='embedding_input'), name='embedding_input', description=\"created by layer 'embedding_input'\"), but it was called on an input with incompatible shape (None, 665).\n",
      "26/26 [==============================] - 0s 3ms/step - loss: 0.6931 - accuracy: 0.4957\n",
      "Test loss: 0.6931098699569702 / Test accuracy: 0.49574726819992065\n"
     ]
    }
   ],
   "source": [
    "ModelAccuracy = model.evaluate(X_test,y_test)\n",
    "print(f'Test loss: {ModelAccuracy[0]} / Test accuracy: {ModelAccuracy[1]}')"
   ]
  },
  {
   "cell_type": "code",
   "execution_count": 21,
   "id": "8588d513",
   "metadata": {},
   "outputs": [
    {
     "name": "stdout",
     "output_type": "stream",
     "text": [
      "dict_keys(['loss', 'accuracy', 'val_loss', 'val_accuracy'])\n"
     ]
    },
    {
     "data": {
      "image/png": "[encoded data removed]",
      "text/plain": [
       "<Figure size 432x288 with 1 Axes>"
      ]
     },
     "metadata": {
      "needs_background": "light"
     },
     "output_type": "display_data"
    },
    {
     "data": {
      "image/png": "[encoded data removed]",
      "text/plain": [
       "<Figure size 432x288 with 1 Axes>"
      ]
     },
     "metadata": {
      "needs_background": "light"
     },
     "output_type": "display_data"
    }
   ],
   "source": [
    "#Provide visualizations of the model's training process - machine learning mastery.com\n",
    "print(history.history.keys())\n",
    "# summarize history for accuracy\n",
    "plt.plot(history.history['accuracy'])\n",
    "plt.plot(history.history['val_accuracy'])\n",
    "plt.title('model accuracy')\n",
    "plt.ylabel('accuracy')\n",
    "plt.xlabel('epoch')\n",
    "plt.legend(['train', 'test'], loc='upper left')\n",
    "plt.show()\n",
    "# summarize history for loss\n",
    "plt.plot(history.history['loss'])\n",
    "plt.plot(history.history['val_loss'])\n",
    "plt.title('model loss')\n",
    "plt.ylabel('loss')\n",
    "plt.xlabel('epoch')\n",
    "plt.legend(['train', 'test'], loc='upper left')\n",
    "plt.show()"
   ]
  },
  {
   "cell_type": "code",
   "execution_count": 22,
   "id": "69346795",
   "metadata": {},
   "outputs": [],
   "source": [
    "#Save the trained network within the neural network\n",
    "model.save('ReviewsSentimentAnalysis.h5')"
   ]
  },
  {
   "cell_type": "code",
   "execution_count": null,
   "id": "266debc7",
   "metadata": {},
   "outputs": [],
   "source": []
  }
 ],
 "metadata": {
  "kernelspec": {
   "display_name": "Python 3",
   "language": "python",
   "name": "python3"
  },
  "language_info": {
   "codemirror_mode": {
    "name": "ipython",
    "version": 3
   },
   "file_extension": ".py",
   "mimetype": "text/x-python",
   "name": "python",
   "nbconvert_exporter": "python",
   "pygments_lexer": "ipython3",
   "version": "3.8.8"
  }
 },
 "nbformat": 4,
 "nbformat_minor": 5
}
